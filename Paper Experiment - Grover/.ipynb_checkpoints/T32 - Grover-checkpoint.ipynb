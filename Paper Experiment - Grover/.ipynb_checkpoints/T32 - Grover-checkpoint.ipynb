{
 "cells": [
  {
   "cell_type": "code",
   "execution_count": null,
   "metadata": {},
   "outputs": [],
   "source": [
    "from qiskit import IBMQ\n",
    "\n",
    "# Load Account and Choose Backend\n",
    "IBMQ.load_account()\n",
    "provider = IBMQ.get_provider('ibm-q')\n",
    "name = 'ibmqx2'\n",
    "backend = provider.get_backend(name) # ibmq_16_melbourne, ibmq_vigo, ibmq_london, ibmq_burlington, ibmq_essex, ibmqx2, ibmq_ourense"
   ]
  },
  {
   "cell_type": "code",
   "execution_count": null,
   "metadata": {},
   "outputs": [],
   "source": [
    "import warnings\n",
    "import sys\n",
    "sys.path.insert(1, '../Scripts')\n",
    "from expfuncs import *\n",
    "warnings.filterwarnings('ignore')\n",
    "\n",
    "interested_qubits = [2,1]\n",
    "itr = 16\n",
    "QDT_correlated = True\n",
    "noise_file_address = 'Noise/'\n",
    "#ll_methods_data(interested_qubits,backend, itr, QDT_correlated, file_address = noise_file_address)"
   ]
  },
  {
   "cell_type": "code",
   "execution_count": null,
   "metadata": {},
   "outputs": [],
   "source": [
    "# Collect Grover Data\n",
    "file_address = 'T32/'\n",
    "Groverexp(backend,file_address =file_address)"
   ]
  },
  {
   "cell_type": "code",
   "execution_count": null,
   "metadata": {},
   "outputs": [],
   "source": [
    "# Create Filters\n",
    "# Run R file first!\n",
    "our_filter, qiskit_filter, QDT_filter, SB_filter = create_filters(interested_qubits,QDT_correlated, from_file = True, file_address = noise_file_address)"
   ]
  },
  {
   "cell_type": "code",
   "execution_count": null,
   "metadata": {},
   "outputs": [],
   "source": [
    "# Read Grover data\n",
    "with open(file_address + 'Count_Grover.csv', mode='r') as sgm:\n",
    "    reader = csv.reader(sgm)\n",
    "    temp_counts = {}\n",
    "    for row in reader:   \n",
    "        temp_counts[row[0]] = int(row[1])\n",
    "real_counts = {}\n",
    "for key in temp_counts.keys():\n",
    "    real_counts[key[0:2]] = temp_counts[key]"
   ]
  },
  {
   "cell_type": "code",
   "execution_count": null,
   "metadata": {},
   "outputs": [],
   "source": [
    "# Filtering\n",
    "mean_counts = our_filter.filter_mean(real_counts)\n",
    "mode_counts = our_filter.filter_mode(real_counts)\n",
    "qis_counts = qiskit_filter.apply(real_counts)\n",
    "QDT_counts = QDT_filter.filter(real_counts)\n",
    "sbmean_counts = SB_filter.filter_mean(real_counts)\n",
    "sbmode_counts = SB_filter.filter_mode(real_counts)"
   ]
  },
  {
   "cell_type": "code",
   "execution_count": null,
   "metadata": {},
   "outputs": [],
   "source": [
    "data_shots = 8192\n",
    "print('Real Device',real_counts['11']/data_shots)\n",
    "print('Qiskit Method',qis_counts['11']/data_shots)\n",
    "print('QDT',QDT_counts['11']/data_shots)\n",
    "print('SB Mean',sbmean_counts['11']/data_shots)\n",
    "print('SB Mode',sbmode_counts['11']/data_shots)\n",
    "print('Mean',mean_counts['11']/data_shots)\n",
    "print('Mode',mode_counts['11']/data_shots)"
   ]
  },
  {
   "cell_type": "code",
   "execution_count": null,
   "metadata": {},
   "outputs": [],
   "source": [
    "from qiskit.visualization import plot_histogram\n",
    "plot_histogram(real_counts)"
   ]
  },
  {
   "cell_type": "code",
   "execution_count": null,
   "metadata": {},
   "outputs": [],
   "source": [
    "plot_histogram(mean_counts)"
   ]
  },
  {
   "cell_type": "code",
   "execution_count": null,
   "metadata": {},
   "outputs": [],
   "source": [
    "plot_histogram(mode_counts)"
   ]
  },
  {
   "cell_type": "code",
   "execution_count": null,
   "metadata": {},
   "outputs": [],
   "source": [
    "import scipy.stats as ss\n",
    "import seaborn as sns\n",
    "sns.set(style=\"ticks\", color_codes=True)\n",
    "import matplotlib.pyplot as plt \n",
    "\n",
    "data = our_filter.post['Qubit1'][:,0]\n",
    "density = ss.gaussian_kde(data)\n",
    "xline = np.linspace(min(data),max(data),200)\n",
    "plt.plot(xline,density(xline),color='Blue')\n",
    "plt.axvline(x=np.mean(data),color='Pink',label = 'Mean')\n",
    "plt.axvline(x=our_filter.mode()[1][0],color='lightgreen',label = 'Mode')\n",
    "# plt.xlabel('Pr(Meas. 11)')\n",
    "plt.ylabel('Density')\n",
    "# plt.title('Denoised Pr(Meas. 11)')\n",
    "plt.legend()\n",
    "plt.show()"
   ]
  },
  {
   "cell_type": "code",
   "execution_count": null,
   "metadata": {},
   "outputs": [],
   "source": [
    "data = our_filter.post['Qubit2'][:,0]\n",
    "density = ss.gaussian_kde(data)\n",
    "xline = np.linspace(min(data),max(data),200)\n",
    "plt.plot(xline,density(xline),color='Blue')\n",
    "plt.axvline(x=np.mean(data),color='Pink',label = 'Mean')\n",
    "plt.axvline(x=our_filter.mode()[0][0],color='lightgreen',label = 'Mode')\n",
    "# plt.xlabel('Pr(Meas. 11)')\n",
    "plt.ylabel('Density')\n",
    "# plt.title('Denoised Pr(Meas. 11)')\n",
    "plt.legend()\n",
    "plt.show()"
   ]
  },
  {
   "cell_type": "code",
   "execution_count": null,
   "metadata": {},
   "outputs": [],
   "source": []
  },
  {
   "cell_type": "code",
   "execution_count": null,
   "metadata": {},
   "outputs": [],
   "source": []
  }
 ],
 "metadata": {
  "kernelspec": {
   "display_name": "Python 3",
   "language": "python",
   "name": "python3"
  },
  "language_info": {
   "codemirror_mode": {
    "name": "ipython",
    "version": 3
   },
   "file_extension": ".py",
   "mimetype": "text/x-python",
   "name": "python",
   "nbconvert_exporter": "python",
   "pygments_lexer": "ipython3",
   "version": "3.7.7"
  }
 },
 "nbformat": 4,
 "nbformat_minor": 4
}
