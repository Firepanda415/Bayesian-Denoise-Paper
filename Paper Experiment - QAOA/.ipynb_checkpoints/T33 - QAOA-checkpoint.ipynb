{
 "cells": [
  {
   "cell_type": "code",
   "execution_count": null,
   "metadata": {},
   "outputs": [],
   "source": [
    "from qiskit import IBMQ\n",
    "\n",
    "# Load Account and Choose Backend\n",
    "IBMQ.load_account()\n",
    "provider = IBMQ.get_provider('ibm-q')\n",
    "name = 'ibmqx2'\n",
    "backend = provider.get_backend(name) # ibmq_16_melbourne, ibmq_vigo, ibmq_london, ibmq_burlington, ibmq_essex, ibmqx2, ibmq_ourense"
   ]
  },
  {
   "cell_type": "code",
   "execution_count": null,
   "metadata": {},
   "outputs": [],
   "source": [
    "import warnings\n",
    "import sys\n",
    "sys.path.insert(1, '../Scripts')\n",
    "from expfuncs import *\n",
    "warnings.filterwarnings('ignore')\n",
    "\n",
    "interested_qubits = [4,3,2,1]\n",
    "itr = 16\n",
    "QDT_correlated = False\n",
    "noise_file_address = 'Noise/'\n",
    "#all_methods_data(interested_qubits,backend, itr, QDT_correlated, file_address = noise_file_address)"
   ]
  },
  {
   "cell_type": "code",
   "execution_count": null,
   "metadata": {},
   "outputs": [],
   "source": [
    "# Collect QAOA Data\n",
    "file_address = 'T33/'\n",
    "QAOAexp(backend,file_address =file_address)"
   ]
  },
  {
   "cell_type": "code",
   "execution_count": null,
   "metadata": {},
   "outputs": [],
   "source": [
    "# Create Filters\n",
    "# Run R file first!\n",
    "our_filter, qiskit_filter, QDT_filter, SB_filter = create_filters(interested_qubits,QDT_correlated, from_file = True, file_address = noise_file_address)"
   ]
  },
  {
   "cell_type": "code",
   "execution_count": null,
   "metadata": {},
   "outputs": [],
   "source": [
    "# Read QAOA data\n",
    "with open(file_address + 'Count_QAOA.csv', mode='r') as sgm:\n",
    "    reader = csv.reader(sgm)\n",
    "    temp_counts = {}\n",
    "    for row in reader:   \n",
    "        temp_counts[row[0]] = int(row[1])\n",
    "real_counts = {}\n",
    "for key in temp_counts.keys():\n",
    "    real_counts[key[0:4]] = temp_counts[key]\n",
    "    \n",
    "with open(file_address + 'Count_QAOA_Simulator.csv', mode='r') as sgm:\n",
    "    reader = csv.reader(sgm)\n",
    "    st_counts = {}\n",
    "    for row in reader:   \n",
    "        st_counts[row[0]] = int(row[1])\n",
    "simu_counts = {}\n",
    "for key in temp_counts.keys():\n",
    "    simu_counts[key[0:4]] = st_counts[key]"
   ]
  },
  {
   "cell_type": "code",
   "execution_count": null,
   "metadata": {},
   "outputs": [],
   "source": [
    "# Filtering\n",
    "mean_counts = our_filter.filter_mean(real_counts)\n",
    "mode_counts = our_filter.filter_mode(real_counts)\n",
    "qis_counts = qiskit_filter.apply(real_counts)\n",
    "QDT_counts = QDT_filter.filter(real_counts)\n",
    "sbmean_counts = SB_filter.filter_mean(real_counts)\n",
    "sbmode_counts = SB_filter.filter_mode(real_counts)"
   ]
  },
  {
   "cell_type": "code",
   "execution_count": null,
   "metadata": {},
   "outputs": [],
   "source": [
    "from QAOAfuncs import *\n",
    "import networkx as nx\n",
    "# Construction the graph\n",
    "n     = 5\n",
    "V     = np.arange(0,n,1)\n",
    "E     =[(1,2,1.0),(2,3,1.0),(3,4,1.0),(2,4,1.0)] \n",
    "\n",
    "G     = nx.Graph()\n",
    "G.add_nodes_from(V)\n",
    "G.add_weighted_edges_from(E)\n",
    "\n",
    "# Generate plot of the Graph\n",
    "colors       = ['r' for node in G.nodes()]\n",
    "default_axes = plt.axes(frameon=True)\n",
    "pos          = nx.spring_layout(G)\n",
    "\n",
    "count  = 0\n",
    "sols = []\n",
    "for sample in list(real_counts.keys()):\n",
    "    # use sampled bit string x to compute C(x)\n",
    "    x         = [int(num) for num in list(sample)]\n",
    "    x.append(0)\n",
    "    tmp_eng   = cost_function_C(x,G)\n",
    "    if tmp_eng == 3:\n",
    "        count += 1\n",
    "        sols.append(sample)\n",
    "nx.draw_networkx(G, node_color=colors, node_size=300, alpha=1, ax=default_axes, pos=pos)\n",
    "print('{} solutions are '.format(count),sols)\n",
    "print('Probabilit of Optimal Solutions')\n",
    "print('Simulator: ',optimalProb(simu_counts,sols))\n",
    "print('Real Device: ',optimalProb(real_counts,sols))\n",
    "print('Qiskit Method: ',optimalProb(qis_counts,sols))\n",
    "print('QDT: ',optimalProb(QDT_counts,sols))\n",
    "print('SB Mean: ',optimalProb(sbmean_counts,sols))\n",
    "print('SB Mode: ',optimalProb(sbmode_counts,sols))\n",
    "print('Mean: ',optimalProb(mean_counts,sols))\n",
    "print('Mode: ',optimalProb(mode_counts,sols))"
   ]
  },
  {
   "cell_type": "code",
   "execution_count": null,
   "metadata": {},
   "outputs": [],
   "source": [
    "data_shots = 8192\n",
    "\n",
    "print('Simulator')\n",
    "simuM1,simuMax_C,_ = QAOAopt(G,simu_counts,100000)\n",
    "print('Real Device')\n",
    "realM1,realMax_C,_ = QAOAopt(G,real_counts,data_shots)\n",
    "print('Qiskit Method')\n",
    "qisM1,qisMax_C,_ = QAOAopt(G,qis_counts,data_shots)\n",
    "print('QDT')\n",
    "QDTM1,QDTMax_C,_ = QAOAopt(G,QDT_counts,data_shots)\n",
    "print('SB Mean')\n",
    "sbmeanM1,sbmeanMax_C,_ = QAOAopt(G,sbmean_counts,data_shots)\n",
    "print('SB Mode')\n",
    "sbmodeM1,sbmodeMax_C,_ = QAOAopt(G,sbmode_counts,data_shots)\n",
    "print('Mean')\n",
    "meanM1,meanMax_C,_ = QAOAopt(G,mean_counts,data_shots)\n",
    "print('Mode')\n",
    "modeM1,modeMax_C,_ = QAOAopt(G,mode_counts,data_shots)"
   ]
  },
  {
   "cell_type": "code",
   "execution_count": null,
   "metadata": {},
   "outputs": [],
   "source": []
  },
  {
   "cell_type": "code",
   "execution_count": null,
   "metadata": {},
   "outputs": [],
   "source": []
  }
 ],
 "metadata": {
  "kernelspec": {
   "display_name": "Python 3",
   "language": "python",
   "name": "python3"
  },
  "language_info": {
   "codemirror_mode": {
    "name": "ipython",
    "version": 3
   },
   "file_extension": ".py",
   "mimetype": "text/x-python",
   "name": "python",
   "nbconvert_exporter": "python",
   "pygments_lexer": "ipython3",
   "version": "3.7.7"
  }
 },
 "nbformat": 4,
 "nbformat_minor": 4
}
