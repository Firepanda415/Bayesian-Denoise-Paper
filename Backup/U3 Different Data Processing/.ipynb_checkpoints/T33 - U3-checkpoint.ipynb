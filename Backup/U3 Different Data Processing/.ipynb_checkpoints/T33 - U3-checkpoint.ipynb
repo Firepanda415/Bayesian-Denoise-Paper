{
 "cells": [
  {
   "cell_type": "code",
   "execution_count": null,
   "metadata": {},
   "outputs": [],
   "source": [
    "from qiskit import IBMQ\n",
    "\n",
    "# Load Account and Choose Backend\n",
    "IBMQ.load_account()\n",
    "provider = IBMQ.get_provider('ibm-q')\n",
    "name = 'ibmqx2'\n",
    "backend = provider.get_backend(name) # ibmq_16_melbourne, ibmq_vigo, ibmq_london, ibmq_burlington, ibmq_essex, ibmqx2, ibmq_ourense"
   ]
  },
  {
   "cell_type": "code",
   "execution_count": null,
   "metadata": {},
   "outputs": [],
   "source": [
    "import warnings\n",
    "warnings.filterwarnings('ignore')\n",
    "import sys\n",
    "sys.path.insert(1, '../Scripts')\n",
    "from measfilter import param_record, getData0,read_params\n",
    "from gatesimu import Gateexp, output, read_data, gate_circ, Gateexp\n",
    "\n",
    "# Parameters\n",
    "interested_qubits = [1,2,3,4]\n",
    "gate_num = 200\n",
    "gate_type = 'X'\n",
    "\n",
    "itr = 16\n",
    "shots = 8192\n",
    "file_address = 'T33/'\n",
    "noise_file_address = 'Noise/'\n",
    "\n",
    "# Collect U3-Gate Data\n",
    "# param_record(backend, itr = itr, shots = shots, file_address = noise_file_address)\n",
    "# for q in interested_qubits:\n",
    "#     Gateexp(gate_num, gate_type, q, itr, backend, file_address =file_address)"
   ]
  },
  {
   "cell_type": "code",
   "execution_count": null,
   "metadata": {},
   "outputs": [],
   "source": [
    "M = 20000\n",
    "gate_sd = 1e-3\n",
    "meas_sd = 0.1\n",
    "ideal_p0 = 1\n",
    "\n",
    "params = read_params(file_address = noise_file_address)\n",
    "for q in interested_qubits:\n",
    "    print('Qubit ',q)\n",
    "    data = read_data(q, gate_type, gate_num, file_address = file_address)\n",
    "    d = getData0(data, int(itr*shots/1024), q)\n",
    "    _,post_lambdas = output(d, q, M, params, gate_sd, meas_sd, gate_type, gate_num, ideal_p0, file_address = file_address)"
   ]
  },
  {
   "cell_type": "code",
   "execution_count": null,
   "metadata": {},
   "outputs": [],
   "source": []
  },
  {
   "cell_type": "code",
   "execution_count": null,
   "metadata": {},
   "outputs": [],
   "source": []
  }
 ],
 "metadata": {
  "kernelspec": {
   "display_name": "Python 3",
   "language": "python",
   "name": "python3"
  },
  "language_info": {
   "codemirror_mode": {
    "name": "ipython",
    "version": 3
   },
   "file_extension": ".py",
   "mimetype": "text/x-python",
   "name": "python",
   "nbconvert_exporter": "python",
   "pygments_lexer": "ipython3",
   "version": "3.7.7"
  }
 },
 "nbformat": 4,
 "nbformat_minor": 4
}
