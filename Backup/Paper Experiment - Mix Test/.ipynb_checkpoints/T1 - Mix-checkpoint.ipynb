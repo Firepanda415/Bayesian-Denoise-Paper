{
 "cells": [
  {
   "cell_type": "code",
   "execution_count": 1,
   "metadata": {},
   "outputs": [],
   "source": [
    "from qiskit import IBMQ\n",
    "\n",
    "# Load Account and Choose Backend\n",
    "IBMQ.load_account()\n",
    "provider = IBMQ.get_provider('ibm-q')\n",
    "name = 'ibmqx2'\n",
    "backend = provider.get_backend(name) # ibmq_16_melbourne, ibmq_vigo, ibmq_london, ibmq_burlington, ibmq_essex, ibmqx2, ibmq_ourense"
   ]
  },
  {
   "cell_type": "code",
   "execution_count": 2,
   "metadata": {},
   "outputs": [],
   "source": [
    "import warnings\n",
    "import sys\n",
    "sys.path.insert(1, '../Scripts')\n",
    "from expfuncs import *\n",
    "warnings.filterwarnings('ignore')\n",
    "\n",
    "interested_qubits = [2,1]\n",
    "itr = 64\n",
    "QDT_correlated = True\n",
    "noise_file_address = 'Noise/'\n",
    "# all_methods_data(interested_qubits,backend, itr, QDT_correlated, file_address = noise_file_address)"
   ]
  },
  {
   "cell_type": "code",
   "execution_count": 3,
   "metadata": {},
   "outputs": [],
   "source": [
    "# Collect Grover Data\n",
    "file_address = 'T1/'\n",
    "# Groverexp(backend,file_address =file_address)"
   ]
  },
  {
   "cell_type": "code",
   "execution_count": 4,
   "metadata": {},
   "outputs": [],
   "source": [
    "# Create Filters\n",
    "our_filter = MeasFilter(interested_qubits,file_address = noise_file_address)\n",
    "our_filter.post_from_file(seed = 227)\n",
    "\n",
    "post_dict = {}\n",
    "for q in interested_qubits:\n",
    "    post_dict['Qubit{}'.format(q)] = pd.read_csv(noise_file_address + 'StandPostQubit{}.csv'.format(q)).to_numpy()\n",
    "\n",
    "SB_filter = MeasFilterSB(interested_qubits,post_dict)"
   ]
  },
  {
   "cell_type": "code",
   "execution_count": 5,
   "metadata": {},
   "outputs": [],
   "source": [
    "# Read Grover data\n",
    "with open(file_address + 'Count_Grover.csv', mode='r') as sgm:\n",
    "    reader = csv.reader(sgm)\n",
    "    temp_counts = {}\n",
    "    for row in reader:   \n",
    "        temp_counts[row[0]] = int(row[1])\n",
    "real_counts = {}\n",
    "for key in temp_counts.keys():\n",
    "    real_counts[key[0:2]] = temp_counts[key]"
   ]
  },
  {
   "cell_type": "code",
   "execution_count": null,
   "metadata": {},
   "outputs": [
    {
     "name": "stdout",
     "output_type": "stream",
     "text": [
      "T1\n"
     ]
    }
   ],
   "source": [
    "# Filtering\n",
    "data_shots = 8192\n",
    "\n",
    "# Read Grover data\n",
    "for t in [1,2,3,4,5,6]:\n",
    "    file_address = 'T{}/'.format(t)\n",
    "    with open(file_address + 'Count_Grover.csv', mode='r') as sgm:\n",
    "        reader = csv.reader(sgm)\n",
    "        temp_counts = {}\n",
    "        for row in reader:   \n",
    "            temp_counts[row[0]] = int(row[1])\n",
    "    real_counts = {}\n",
    "    for key in temp_counts.keys():\n",
    "        real_counts[key[0:2]] = temp_counts[key]\n",
    "    print('T' + str(t))\n",
    "    mean_counts = our_filter.filter_mean(real_counts)\n",
    "    mode_counts = our_filter.filter_mode(real_counts)\n",
    "    sbmean_counts = SB_filter.filter_mean(real_counts)\n",
    "    sbmode_counts = SB_filter.filter_mode(real_counts)\n",
    "    print('SB Mean',sbmean_counts['11']/data_shots)\n",
    "    print('SB Mode',sbmode_counts['11']/data_shots)\n",
    "    print('Our Mean',mean_counts['11']/data_shots)\n",
    "    print('Our Mode',mode_counts['11']/data_shots)"
   ]
  },
  {
   "cell_type": "code",
   "execution_count": null,
   "metadata": {},
   "outputs": [],
   "source": [
    "from qiskit.visualization import plot_histogram\n",
    "# plot_histogram(real_counts)"
   ]
  },
  {
   "cell_type": "code",
   "execution_count": null,
   "metadata": {},
   "outputs": [],
   "source": [
    "plot_histogram(mean_counts)"
   ]
  },
  {
   "cell_type": "code",
   "execution_count": null,
   "metadata": {},
   "outputs": [],
   "source": [
    "plot_histogram(mode_counts)"
   ]
  },
  {
   "cell_type": "code",
   "execution_count": null,
   "metadata": {},
   "outputs": [],
   "source": [
    "from gatesimu import QoI\n",
    "\n",
    "QoI(np.array([[1,1,0],[0.92,0.89,0.005]]), 1,200)"
   ]
  },
  {
   "cell_type": "code",
   "execution_count": null,
   "metadata": {},
   "outputs": [],
   "source": []
  },
  {
   "cell_type": "code",
   "execution_count": null,
   "metadata": {},
   "outputs": [],
   "source": []
  },
  {
   "cell_type": "code",
   "execution_count": null,
   "metadata": {},
   "outputs": [],
   "source": []
  },
  {
   "cell_type": "code",
   "execution_count": null,
   "metadata": {},
   "outputs": [],
   "source": [
    "def gate_circ(nGates, gate_type, interested_qubit, itr):\n",
    "    circ = QuantumCircuit(5,5)\n",
    "    for _ in range(nGates):\n",
    "        if gate_type == 'X':\n",
    "            circ.x(interested_qubit)\n",
    "        elif gate_type == 'Y':\n",
    "            circ.y(interested_qubit)\n",
    "        elif gate_type == 'Z':\n",
    "            circ.z(interested_qubit)\n",
    "        else:\n",
    "            raise Exception('Choose gate_type from X, Y, Z')\n",
    "        circ.barrier(interested_qubit)\n",
    "    circ.measure([interested_qubit],[interested_qubit])\n",
    "    print('Circ depth is ', circ.depth())\n",
    "    circs = []\n",
    "    for i in range(itr):\n",
    "        circs.append(circ.copy('itr'+str(i)))\n",
    "    return circs\n",
    "\n",
    "def Gateexp(nGates, gate_type, interested_qubit, itr, backend, file_address = ''):\n",
    "    circs = gate_circ(nGates, gate_type, interested_qubit, itr)\n",
    "    # Run on real device\n",
    "    job_exp = execute(circs, backend = backend, shots = 8192, memory = True, optimization_level = 0)\n",
    "    job_monitor(job_exp)\n",
    "    \n",
    "    # Record bit string\n",
    "    exp_results = job_exp.result()\n",
    "    readout = np.array([])\n",
    "    for i in range(itr):\n",
    "        readout = np.append(readout,exp_results.get_memory(experiment = ('itr' + str(i))))\n",
    "        \n",
    "    with open(file_address + 'Readout_{}{}Q{}.csv'.format(nGates,gate_type,interested_qubit), mode='w') as sgr:\n",
    "        read_writer = csv.writer(sgr, delimiter=',', quotechar='\"', quoting=csv.QUOTE_MINIMAL)\n",
    "        read_writer.writerow(readout)"
   ]
  },
  {
   "cell_type": "code",
   "execution_count": null,
   "metadata": {},
   "outputs": [],
   "source": [
    "Gateexp(200, 'X', 1, 1, backend, file_address = '')"
   ]
  },
  {
   "cell_type": "code",
   "execution_count": null,
   "metadata": {},
   "outputs": [],
   "source": []
  }
 ],
 "metadata": {
  "kernelspec": {
   "display_name": "Python 3",
   "language": "python",
   "name": "python3"
  },
  "language_info": {
   "codemirror_mode": {
    "name": "ipython",
    "version": 3
   },
   "file_extension": ".py",
   "mimetype": "text/x-python",
   "name": "python",
   "nbconvert_exporter": "python",
   "pygments_lexer": "ipython3",
   "version": "3.7.7"
  }
 },
 "nbformat": 4,
 "nbformat_minor": 4
}
