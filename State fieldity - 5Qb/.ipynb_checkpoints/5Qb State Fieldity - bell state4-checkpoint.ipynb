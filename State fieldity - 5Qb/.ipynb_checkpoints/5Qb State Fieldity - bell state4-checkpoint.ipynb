{
 "cells": [
  {
   "cell_type": "code",
   "execution_count": 1,
   "metadata": {},
   "outputs": [],
   "source": [
    "# Add path\n",
    "import sys\n",
    "sys.path.insert(1, '../Scripts')\n",
    "\n",
    "# Packages for Our filters\n",
    "import measfilter as mf # package for measurement error filter\n",
    "import gatesimu as gs # package for gate and measurment error filter\n",
    "import expfuncs as ef\n",
    "\n",
    "# Package for other Qiskit functions\n",
    "from qiskit import Aer, IBMQ, QuantumCircuit, transpile, execute, QuantumRegister, ClassicalRegister\n",
    "from qiskit.tools.monitor import job_monitor\n",
    "from qiskit.visualization import plot_histogram\n",
    "\n",
    "import csv\n",
    "\n",
    "\n",
    "# Needed for functions\n",
    "import numpy as np\n",
    "import time\n",
    "from copy import deepcopy\n",
    "import pandas as pd\n",
    "\n",
    "# Import Qiskit classes\n",
    "import qiskit \n",
    "from qiskit.quantum_info import state_fidelity\n",
    "from qiskit.providers.aer import noise\n",
    "\n",
    "# Tomography functions\n",
    "from qiskit.ignis.verification.tomography import state_tomography_circuits, StateTomographyFitter\n",
    "import qiskit.ignis.mitigation.measurement as mc"
   ]
  },
  {
   "cell_type": "code",
   "execution_count": 2,
   "metadata": {},
   "outputs": [],
   "source": [
    "# Load Account and Choose Backend\n",
    "IBMQ.load_account()\n",
    "provider = IBMQ.get_provider('ibm-q')\n",
    "name = 'ibmqx2' # ibmq_16_melbourne, ibmq_vigo, ibmq_london, ibmq_burlington, ibmq_essex, ibmqx2, ibmq_ourense\n",
    "backend = provider.get_backend(name) "
   ]
  },
  {
   "cell_type": "code",
   "execution_count": 3,
   "metadata": {},
   "outputs": [],
   "source": [
    "interested_qubits = [2,1,0] # Descending order because Qiskit's readout is little-endian\n",
    "\n",
    "itr = 32\n",
    "shots = 8192\n",
    "file_address = ''\n",
    "#readout = mf.collect_filter_data(backend, itr=itr,shots=shots,if_monitor_job=True,if_write=True,file_address=file_address)"
   ]
  },
  {
   "cell_type": "code",
   "execution_count": 4,
   "metadata": {},
   "outputs": [],
   "source": [
    "BJW_filter = mf.MeasFilter(interested_qubits, file_address=file_address)\n",
    "#BJW_filter.inference(nPrior=40000, Priod_sd=0.1, seed=127, shots_per_point=1024)\n",
    "BJW_filter.post_from_file() # if inference() is already run once"
   ]
  },
  {
   "cell_type": "code",
   "execution_count": 5,
   "metadata": {},
   "outputs": [],
   "source": [
    "# meas_calibs, state_labels = mc.complete_meas_cal(qubit_list=[0,1,2], circlabel='mcal')\n",
    "# job = execute(meas_calibs, backend=backend,shots=8192,optimization_level=0)\n",
    "# job_monitor(job)\n",
    "cal_matrix = np.genfromtxt(file_address + 'cal_matrix1.csv', delimiter=',')\n",
    "with open(file_address + 'state_labels1.csv', mode='r') as sgm:\n",
    "    reader = csv.reader(sgm)\n",
    "    state_labels = np.asarray([row for row in reader][0])\n",
    "\n",
    "meas_filter = mc.MeasurementFilter(cal_matrix, state_labels)"
   ]
  },
  {
   "cell_type": "code",
   "execution_count": 6,
   "metadata": {},
   "outputs": [
    {
     "data": {
      "image/png": "[encoded data removed]",
      "text/plain": [
       "<Figure size 429.828x204.68 with 1 Axes>"
      ]
     },
     "execution_count": 6,
     "metadata": {},
     "output_type": "execute_result"
    }
   ],
   "source": [
    "q5 = QuantumRegister(3)\n",
    "bell5 = QuantumCircuit(q5)\n",
    "bell5.h(q5[0])\n",
    "for j in range(2):\n",
    "    bell5.cx(q5[j], q5[j + 1])\n",
    "bell5.x(q5[1])\n",
    "bell5.draw(output = 'mpl')"
   ]
  },
  {
   "cell_type": "code",
   "execution_count": 16,
   "metadata": {},
   "outputs": [
    {
     "name": "stdout",
     "output_type": "stream",
     "text": [
      "[0.        +0.j 0.        +0.j 0.70710678+0.j 0.        +0.j\n",
      " 0.        +0.j 0.70710678+0.j 0.        +0.j 0.        +0.j]\n"
     ]
    }
   ],
   "source": [
    "# Get ideal output state\n",
    "job = qiskit.execute(bell5, Aer.get_backend('statevector_simulator'))\n",
    "psi_bell5 = job.result().get_statevector(bell5)\n",
    "print(psi_bell5)\n",
    "qst_bell5 = state_tomography_circuits(bell5, q5)"
   ]
  },
  {
   "cell_type": "code",
   "execution_count": 8,
   "metadata": {},
   "outputs": [
    {
     "name": "stdout",
     "output_type": "stream",
     "text": [
      "Job Status: job has successfully run\n"
     ]
    }
   ],
   "source": [
    "job_tomo = qiskit.execute(qst_bell5, backend=backend, shots=8192)\n",
    "job_monitor(job_tomo)"
   ]
  },
  {
   "cell_type": "code",
   "execution_count": 9,
   "metadata": {},
   "outputs": [
    {
     "name": "stdout",
     "output_type": "stream",
     "text": [
      "Fit Fidelity (no correction) = 0.6718964152397564\n"
     ]
    }
   ],
   "source": [
    "tomo_bell = StateTomographyFitter(job_tomo.result(), qst_bell5)\n",
    "#no correction\n",
    "rho_bell = tomo_bell.fit()\n",
    "F_bell = state_fidelity(psi_bell5, rho_bell)\n",
    "print('Fit Fidelity (no correction) =', F_bell)"
   ]
  },
  {
   "cell_type": "code",
   "execution_count": 10,
   "metadata": {},
   "outputs": [
    {
     "name": "stdout",
     "output_type": "stream",
     "text": [
      "Qiskit: Fit Fidelity (w/ correction) = 0.8970381799952865\n"
     ]
    }
   ],
   "source": [
    "#correct data\n",
    "correct_tomo_results = meas_filter.apply(job_tomo.result(), method='least_squares')\n",
    "tomo_bell = StateTomographyFitter(correct_tomo_results, qst_bell5)\n",
    "rho_bell = tomo_bell.fit()\n",
    "F_bell = state_fidelity(psi_bell5, rho_bell)\n",
    "print('Qiskit: Fit Fidelity (w/ correction) =', F_bell)"
   ]
  },
  {
   "cell_type": "code",
   "execution_count": 11,
   "metadata": {},
   "outputs": [],
   "source": [
    "our_filter = mc.MeasurementFilter(BJW_filter.mat_mean, state_labels)"
   ]
  },
  {
   "cell_type": "code",
   "execution_count": 12,
   "metadata": {},
   "outputs": [
    {
     "name": "stdout",
     "output_type": "stream",
     "text": [
      "BJW   : Fit Fidelity (w/ correction) = 0.9203350477340162\n"
     ]
    }
   ],
   "source": [
    "#correct data\n",
    "correct_tomo_results_BJW = our_filter.apply(job_tomo.result(), method='least_squares')\n",
    "tomo_bell_BJW = StateTomographyFitter(correct_tomo_results_BJW, qst_bell5)\n",
    "rho_bell_BJW = tomo_bell_BJW.fit()\n",
    "F_bell_BJW = state_fidelity(psi_bell5, rho_bell_BJW)\n",
    "print('BJW   : Fit Fidelity (w/ correction) =', F_bell_BJW)"
   ]
  },
  {
   "cell_type": "code",
   "execution_count": 13,
   "metadata": {},
   "outputs": [],
   "source": [
    "post_dict = {}\n",
    "for q in interested_qubits:\n",
    "    post_dict['Qubit{}'.format(q)] = pd.read_csv(\n",
    "        file_address + 'StandPostQubit{}.csv'.format(q)).to_numpy()\n",
    "\n",
    "stand_filter = ef.MeasFilterSB(interested_qubits, post_dict)\n",
    "try:\n",
    "    stand_filter.filter_mean(job_tomo)\n",
    "except:\n",
    "    pass\n",
    "SB_filter = mc.MeasurementFilter(stand_filter.mat_mean, state_labels)"
   ]
  },
  {
   "cell_type": "code",
   "execution_count": 14,
   "metadata": {},
   "outputs": [
    {
     "name": "stdout",
     "output_type": "stream",
     "text": [
      "SB    : Fit Fidelity (w/ correction) = 0.9207427798172108\n"
     ]
    }
   ],
   "source": [
    "#correct data\n",
    "correct_tomo_results_SB = SB_filter.apply(job_tomo.result(), method='least_squares')\n",
    "tomo_bell_SB = StateTomographyFitter(correct_tomo_results_SB, qst_bell5)\n",
    "rho_bell_SB = tomo_bell_SB.fit()\n",
    "F_bell_SB = state_fidelity(psi_bell5, rho_bell_SB)\n",
    "print('SB    : Fit Fidelity (w/ correction) =', F_bell_SB)"
   ]
  },
  {
   "cell_type": "code",
   "execution_count": 15,
   "metadata": {},
   "outputs": [],
   "source": [
    "# import csv\n",
    "# shots_per_point = 1024\n",
    "# # Data for Standard Bayesian\n",
    "# # Read data to for measurement error while input is |0>\n",
    "# print('Write data for standard Bayesian')\n",
    "# prop_dict = backend.properties().to_dict()\n",
    "# with open(file_address + 'given_params.csv', mode='w', newline='') as sgm:\n",
    "#     param_writer = csv.writer(sgm,\n",
    "#                               delimiter=',',\n",
    "#                               quotechar='\"',\n",
    "#                               quoting=csv.QUOTE_MINIMAL)\n",
    "#     for q in interested_qubits:\n",
    "#         p0m0 = 1 - prop_dict['qubits'][q][5]['value']\n",
    "#         if p0m0 == 1 or p0m0 < 0.7:\n",
    "#             p0m0 = 0.9\n",
    "#         p1m1 = 1 - prop_dict['qubits'][q][4]['value']\n",
    "#         if p1m1 == 1 or p1m1 < 0.7:\n",
    "#             p1m1 = 0.9\n",
    "#         param_writer.writerow([p0m0, p1m1])\n",
    "\n",
    "# with open(file_address + 'Filter_data.csv', mode='r') as measfile:\n",
    "#     reader = csv.reader(measfile)\n",
    "#     cali01 = np.asarray([row for row in reader][0])\n",
    "\n",
    "# Data = cali01\n",
    "# for q in interested_qubits:\n",
    "#     y = mf.getData0(Data, itr * int(8192 / shots_per_point), q)\n",
    "#     with open(file_address + 'Qubit{}.csv'.format(q), mode='w',\n",
    "#               newline='') as sgr:\n",
    "#         read_writer = csv.writer(sgr,\n",
    "#                                  delimiter=',',\n",
    "#                                  quotechar='\"',\n",
    "#                                  quoting=csv.QUOTE_MINIMAL)\n",
    "#         read_writer.writerow(['x', 'y'])\n",
    "#         for i in range(len(y)):\n",
    "#             read_writer.writerow([0.5, y[i]])"
   ]
  },
  {
   "cell_type": "code",
   "execution_count": null,
   "metadata": {},
   "outputs": [],
   "source": []
  }
 ],
 "metadata": {
  "kernelspec": {
   "display_name": "Python 3",
   "language": "python",
   "name": "python3"
  },
  "language_info": {
   "codemirror_mode": {
    "name": "ipython",
    "version": 3
   },
   "file_extension": ".py",
   "mimetype": "text/x-python",
   "name": "python",
   "nbconvert_exporter": "python",
   "pygments_lexer": "ipython3",
   "version": "3.7.7"
  }
 },
 "nbformat": 4,
 "nbformat_minor": 4
}
