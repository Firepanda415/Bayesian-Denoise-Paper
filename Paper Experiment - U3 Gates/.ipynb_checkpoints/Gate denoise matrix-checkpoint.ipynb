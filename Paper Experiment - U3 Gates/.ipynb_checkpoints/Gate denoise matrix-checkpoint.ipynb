{
 "cells": [
  {
   "cell_type": "code",
   "execution_count": 1,
   "metadata": {},
   "outputs": [],
   "source": [
    "import numpy as np\n",
    "import csv\n",
    "import sys\n",
    "sys.path.insert(1, '../Scripts')\n",
    "from measfilter import getData0, errMitMat\n",
    "\n",
    "def sxpower(s,x):\n",
    "    total = 0\n",
    "    length = len(s)\n",
    "    for i in range(length):\n",
    "        si = int(s[i])\n",
    "        xi = int(x[i])\n",
    "        total += si*xi\n",
    "    return total\n",
    "\n",
    "def count1(s):\n",
    "    count = 0\n",
    "    for i in range(len(s)):\n",
    "        if s[i] == '1':\n",
    "            count += 1\n",
    "    return count\n",
    "\n",
    "def gate_matrix(length, eps, m):\n",
    "    size = 2**length\n",
    "    mat = np.empty([size,size],dtype = np.float64)\n",
    "    for row in range(size):\n",
    "        for col in range(size):\n",
    "            x = (\"{0:0\"+str(length)+\"b}\").format(row)\n",
    "            s = (\"{0:0\"+str(length)+\"b}\").format(col)\n",
    "            power = sxpower(s,x)\n",
    "            mat[row,col] = ((-1)**power) * ((1 - eps)**(count1(s)*m))\n",
    "    return mat\n",
    "\n",
    "from cvxopt import matrix, solvers\n",
    "def find_least_norm(ptilde): # only for one-qubit case\n",
    "    # Formulation\n",
    "    Q = 2*matrix(np.identity(2))\n",
    "    p = -2*matrix(ptilde)\n",
    "\n",
    "    G = matrix(np.array([[0,1],[0,-1]]),(2,2), 'd')\n",
    "    h = 0.5*matrix(np.ones(2))\n",
    "\n",
    "    A = matrix(np.array([1,0]),(1,2), 'd')\n",
    "    b = matrix(0.5)\n",
    "\n",
    "    solvers.options['show_progress'] = False\n",
    "    sol=solvers.qp(Q, p, G, h, A, b)\n",
    "    return sol['status'],sol['x']\n",
    "\n",
    "def gate_denoise(p0s, lambdas):\n",
    "    denoised = []\n",
    "    meas_err_mat = errMitMat([lambdas[0], lambdas[1]])\n",
    "    M = gate_matrix(1, lambdas[2], m)\n",
    "    for p0 in p0s:\n",
    "        ptilde = np.array([p0, 1 - p0])\n",
    "        gate_ptilde = np.linalg.solve(meas_err_mat,ptilde)\n",
    "        phat = np.linalg.solve(M,gate_ptilde)\n",
    "        status, opt_phat = find_least_norm(phat)\n",
    "        opt_recovered_p0 = opt_phat[0] + opt_phat[1] * (-1) ** (1 * 0) # phat(0) + phat(1)\n",
    "        opt_recovered_p1 = opt_phat[0] + opt_phat[1] * (-1) ** (1 * 1) # phat(0) - phat(1)\n",
    "        denoised.append(opt_recovered_p0)\n",
    "        \n",
    "    return denoised"
   ]
  },
  {
   "cell_type": "code",
   "execution_count": 2,
   "metadata": {},
   "outputs": [],
   "source": [
    "# def gate_matrix2(length, eps, m):\n",
    "#     size = 2**length\n",
    "#     mat = np.empty([size,size],dtype = np.float64)\n",
    "#     for row in range(size):\n",
    "#         for col in range(size):\n",
    "#             x = (\"{0:0\"+str(length)+\"b}\").format(row)\n",
    "#             s = (\"{0:0\"+str(length)+\"b}\").format(col)\n",
    "#             mat[row,col] = ((1 - eps)**(count1(s)*m))\n",
    "#     return mat\n",
    "\n",
    "# eps = 0.1\n",
    "# for length in range(1,10,1):\n",
    "#     print(np.linalg.matrix_rank(gate_matrix2(length, eps, 1)), 2**length)"
   ]
  },
  {
   "cell_type": "code",
   "execution_count": 3,
   "metadata": {},
   "outputs": [
    {
     "name": "stdout",
     "output_type": "stream",
     "text": [
      "Num of Qubits = 1, Inversable = True\n",
      "[[ 1.  1.]\n",
      " [ 1. -1.]]\n",
      "Num of Qubits = 2, Inversable = True\n",
      "[[ 1.  1.  1.  1.]\n",
      " [ 1. -1.  1. -1.]\n",
      " [ 1.  1. -1. -1.]\n",
      " [ 1. -1. -1.  1.]]\n",
      "Num of Qubits = 3, Inversable = True\n",
      "[[ 1.  1.  1.  1.  1.  1.  1.  1.]\n",
      " [ 1. -1.  1. -1.  1. -1.  1. -1.]\n",
      " [ 1.  1. -1. -1.  1.  1. -1. -1.]\n",
      " [ 1. -1. -1.  1.  1. -1. -1.  1.]\n",
      " [ 1.  1.  1.  1. -1. -1. -1. -1.]\n",
      " [ 1. -1.  1. -1. -1.  1. -1.  1.]\n",
      " [ 1.  1. -1. -1. -1. -1.  1.  1.]\n",
      " [ 1. -1. -1.  1. -1.  1.  1. -1.]]\n"
     ]
    }
   ],
   "source": [
    "# How to prove the matrix is in general full rank?\n",
    "# the (1 - eps) term are the same for all rows, so we do not look at them when prove full-row rank\n",
    "# Denote the matrix that only have (-1)^{s.x} as M_n where n is number of qubits\n",
    "# we can see\n",
    "# M_n = [M_{n-1}  M_{n-1}\n",
    "#        M_{n-1}  -M_{n-1}]\n",
    "# for n >= 1 and M_0 = 1\n",
    "# As all entries in M_0 are all non-zero, all rows from [M_{n-1}  M_{n-1}] cannot be the multiple of rows in [M_{n-1}  -M_{n-1}]\n",
    "# Then use induction to prove M_{n - 1} has full rank, which is trivially true for M_0 and M_1\n",
    "# QED\n",
    " \n",
    "\n",
    "eps = 0\n",
    "m = 1\n",
    "for length in range(1,4,1):\n",
    "    mat = gate_matrix(length, eps, m)\n",
    "    print('Num of Qubits = {length:d}, Inversable = {det:}'.format(length = length, det = (0 != np.linalg.det(mat))))\n",
    "    print(mat)"
   ]
  },
  {
   "cell_type": "code",
   "execution_count": 4,
   "metadata": {},
   "outputs": [],
   "source": [
    "import csv\n",
    "import sys\n",
    "sys.path.insert(1, '../Scripts')\n",
    "from measfilter import getData0, errMitMat\n",
    "\n",
    "\n",
    "file_address = 'T1/'\n",
    "m = 200\n",
    "with open(file_address + 'Readout_{}{}Q{}.csv'.format(m, 'X', 1), mode='r') as measfile:\n",
    "    reader = csv.reader(measfile)    \n",
    "    data1 = np.asarray([row for row in reader][0])\n",
    "with open(file_address + 'Readout_{}{}Q{}.csv'.format(m, 'X', 2), mode='r') as measfile:\n",
    "    reader = csv.reader(measfile)    \n",
    "    data2 = np.asarray([row for row in reader][0])"
   ]
  },
  {
   "cell_type": "code",
   "execution_count": 5,
   "metadata": {},
   "outputs": [],
   "source": [
    "# # Construct ptilde\n",
    "# denoised = []\n",
    "\n",
    "# p0s = getData0(data, 128, interested_qubit)\n",
    "\n",
    "# meas_err_mat = errMitMat([0.92545931, 0.89217367])\n",
    "# M = gate_matrix(1, 0.00986768, m)\n",
    "# print(M)\n",
    "# for p0 in p0s:\n",
    "#     ptilde = np.array([p0, 1 - p0])\n",
    "#     # Remove measurement error\n",
    "#     gate_ptilde = np.linalg.solve(meas_err_mat,ptilde)\n",
    "#     # Remove gate error\n",
    "#     phat = np.linalg.solve(M,gate_ptilde)\n",
    "#     recovered_p0 = phat[0] + phat[1] * (-1) ** (1 * 0) # phat(0) + phat(1)\n",
    "#     recovered_p1 = phat[0] + phat[1] * (-1) ** (1 * 1) # phat(0) - phat(1)\n",
    "#     # Show result\n",
    "#     print('w/  meas. error, ptilde = [{:.4f},{:.4f}]'.format(ptilde[0], ptilde[1]))\n",
    "#     print('w/o meas. error, ptilde = [{:.4f},{:.4f}]'.format(gate_ptilde[0], gate_ptilde[1]))\n",
    "#     print('phat = ', phat)\n",
    "#     print('Recovered distribution p(0) = {:.4f}, p(1) = {:.4f}'.format(recovered_p0, recovered_p1))\n",
    "#     # Find least norm\n",
    "#     status, opt_phat = find_least_norm(phat)\n",
    "#     opt_recovered_p0 = opt_phat[0] + opt_phat[1] * (-1) ** (1 * 0) # phat(0) + phat(1)\n",
    "#     opt_recovered_p1 = opt_phat[0] + opt_phat[1] * (-1) ** (1 * 1) # phat(0) - phat(1)\n",
    "#     print('Status: ', status)\n",
    "#     print('phat w/ opt = [{:.4f},{:.4f}]'.format(opt_phat[0], opt_phat[1]))\n",
    "#     print('Recovered distribution p(0) = {:.4f}, p(1) = {:.4f}'.format(opt_recovered_p0, opt_recovered_p1))\n",
    "#     print('\\n---------------------------------------------------------------------\\n')\n",
    "#     denoised.append(opt_recovered_p0)"
   ]
  },
  {
   "cell_type": "code",
   "execution_count": 6,
   "metadata": {},
   "outputs": [],
   "source": [
    "p0s1 = getData0(data1, 128, 1)\n",
    "p0s2 = getData0(data2, 128, 2)\n",
    "Q1BJW = gate_denoise(p0s1, [0.92545931, 0.89217367, 0.00986768])\n",
    "Q1SB = gate_denoise(p0s1, [0.9221484,  0.89385907, 0.00936743])\n",
    "\n",
    "Q2BJW = gate_denoise(p0s2, [0.92292681, 0.88564568, 0.00760882])\n",
    "Q2SB = gate_denoise(p0s2, [0.9213698,  0.88708473, 0.00596481])"
   ]
  },
  {
   "cell_type": "code",
   "execution_count": 7,
   "metadata": {},
   "outputs": [
    {
     "data": {
      "image/png": "[encoded data removed]",
      "text/plain": [
       "<Figure size 432x288 with 1 Axes>"
      ]
     },
     "metadata": {
      "needs_background": "light"
     },
     "output_type": "display_data"
    }
   ],
   "source": [
    "import matplotlib.pyplot as plt\n",
    "plt.hist([Q1BJW, Q1SB], label = ['Consistent', 'Standard'])\n",
    "plt.xlabel('Probability of measuring 0')\n",
    "plt.ylabel('Counts')\n",
    "plt.legend()\n",
    "plt.savefig('denoised-Qubit1.jpg')\n",
    "plt.show()"
   ]
  },
  {
   "cell_type": "code",
   "execution_count": 8,
   "metadata": {},
   "outputs": [
    {
     "data": {
      "image/png": "[encoded data removed]",
      "text/plain": [
       "<Figure size 432x288 with 1 Axes>"
      ]
     },
     "metadata": {
      "needs_background": "light"
     },
     "output_type": "display_data"
    }
   ],
   "source": [
    "plt.hist([Q2BJW, Q2SB], label = ['Consistent', 'Standard'])\n",
    "plt.xlabel('Probability of measuring 0')\n",
    "plt.ylabel('Counts')\n",
    "plt.legend()\n",
    "plt.savefig('denoised-Qubit2.jpg')\n",
    "plt.show()"
   ]
  },
  {
   "cell_type": "code",
   "execution_count": null,
   "metadata": {},
   "outputs": [],
   "source": []
  }
 ],
 "metadata": {
  "kernelspec": {
   "display_name": "Python 3",
   "language": "python",
   "name": "python3"
  },
  "language_info": {
   "codemirror_mode": {
    "name": "ipython",
    "version": 3
   },
   "file_extension": ".py",
   "mimetype": "text/x-python",
   "name": "python",
   "nbconvert_exporter": "python",
   "pygments_lexer": "ipython3",
   "version": "3.7.7"
  }
 },
 "nbformat": 4,
 "nbformat_minor": 4
}
