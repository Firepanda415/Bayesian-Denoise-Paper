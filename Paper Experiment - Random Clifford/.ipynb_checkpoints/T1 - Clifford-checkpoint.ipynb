{
 "cells": [
  {
   "cell_type": "code",
   "execution_count": 1,
   "metadata": {},
   "outputs": [],
   "source": [
    "from qiskit import IBMQ\n",
    "\n",
    "# Load Account and Choose Backend\n",
    "# IBMQ.load_account()\n",
    "# provider = IBMQ.get_provider('ibm-q')\n",
    "# name = 'ibmqx2'\n",
    "# backend = provider.get_backend(name) # ibmq_16_melbourne, ibmq_vigo, ibmq_london, ibmq_burlington, ibmq_essex, ibmqx2, ibmq_ourense"
   ]
  },
  {
   "cell_type": "code",
   "execution_count": 2,
   "metadata": {},
   "outputs": [],
   "source": [
    "import warnings\n",
    "import sys\n",
    "sys.path.insert(1, '../Scripts')\n",
    "from expfuncs import *\n",
    "warnings.filterwarnings('ignore')\n",
    "\n",
    "interested_qubits = [2,1]\n",
    "itr = 32\n",
    "QDT_correlated = True\n",
    "noise_file_address = 'Noise/'\n",
    "file_address = 'T1/'\n",
    "#all_methods_data(interested_qubits,backend, itr, QDT_correlated, file_address = noise_file_address)"
   ]
  },
  {
   "cell_type": "code",
   "execution_count": 3,
   "metadata": {},
   "outputs": [],
   "source": [
    "#Import the RB Functions\n",
    "import qiskit.ignis.verification.randomized_benchmarking as rb\n",
    "\n",
    "#Generate RB circuits (2Q RB)\n",
    "#number of qubits\n",
    "nQ=2\n",
    "rb_opts = {}\n",
    "#Number of Cliffords in the sequence\n",
    "rb_opts['length_vector'] = [1,2,3,4]\n",
    "#Number of seeds (random sequences)\n",
    "rb_opts['nseeds'] = 16\n",
    "#Default pattern\n",
    "rb_opts['rb_pattern'] = [[1,2]]\n",
    "\n",
    "# with open(file_address + 'RBparams.csv', newline='',mode='w') as sgr:\n",
    "#     count_writer = csv.writer(sgr, delimiter=',', quotechar='\"', quoting=csv.QUOTE_MINIMAL)\n",
    "#     count_writer.writerow(['nseeds', rb_opts['nseeds']])\n",
    "#     arr = np.array(['length_vector'])\n",
    "#     count_writer.writerow(np.append(arr, rb_opts['length_vector']))\n",
    "\n",
    "# rb_circs, xdata = rb.randomized_benchmarking_seq(**rb_opts)\n",
    "# print(len(rb_circs))\n",
    "# rb_circs[0][0].draw(output='mpl')"
   ]
  },
  {
   "cell_type": "code",
   "execution_count": 4,
   "metadata": {},
   "outputs": [],
   "source": [
    "# circs = []\n",
    "# name_prefix = []\n",
    "# name_suffix = []\n",
    "# for i in range(rb_opts['nseeds']):\n",
    "#     n2 = 'seed'+str(i)\n",
    "#     name_suffix.append(n2)\n",
    "# for j in range(len(rb_opts['length_vector'])):\n",
    "#     n1 = 'len'+str(rb_opts['length_vector'][j])\n",
    "#     name_prefix.append(n1)\n",
    "    \n",
    "# for n1 in name_prefix:\n",
    "#     for n2 in name_suffix:\n",
    "#         circs.append(rb_circs[i][j].copy(n1+n2))"
   ]
  },
  {
   "cell_type": "code",
   "execution_count": 5,
   "metadata": {},
   "outputs": [],
   "source": [
    "# from qiskit import Aer,QuantumCircuit,transpile,execute,QuantumRegister\n",
    "# from qiskit.tools.monitor import job_monitor\n",
    "\n",
    "# backend = Aer.get_backend(\"qasm_simulator\")\n",
    "# shots = 8192\n",
    "# job = execute(circs, backend, shots=shots)\n",
    "# job_monitor(job)\n",
    "# res = job.result()\n",
    "# for length in name_prefix:\n",
    "#     print(length)\n",
    "#     for seed in name_suffix:\n",
    "#         print(seed)\n",
    "#         circ_name = length+seed\n",
    "#         with open(file_address + circ_name + '.csv',newline='', mode='w') as sgr:\n",
    "#             count_writer = csv.writer(sgr, delimiter=',', quotechar='\"', quoting=csv.QUOTE_MINIMAL)\n",
    "#             for key, val in res.get_counts(circ_name).items():\n",
    "#                 count_writer.writerow([key,val])"
   ]
  },
  {
   "cell_type": "code",
   "execution_count": 6,
   "metadata": {},
   "outputs": [
    {
     "name": "stdout",
     "output_type": "stream",
     "text": [
      "Standard Bayesian filter\n",
      "Our Filter\n",
      "Qiskit filter\n",
      "QDT filter\n"
     ]
    }
   ],
   "source": [
    "# Create Filters\n",
    "# Run R file first!\n",
    "our_filter, qiskit_filter, QDT_filter, SB_filter = create_filters(interested_qubits,QDT_correlated, show_denoised = False, from_file = True, file_address = noise_file_address)"
   ]
  },
  {
   "cell_type": "code",
   "execution_count": 7,
   "metadata": {},
   "outputs": [
    {
     "data": {
      "text/plain": [
       "{'nseeds': 16, 'length_vector': [1, 2, 3, 4]}"
      ]
     },
     "execution_count": 7,
     "metadata": {},
     "output_type": "execute_result"
    }
   ],
   "source": [
    "# Read RB paramsters\n",
    "with open(file_address + 'RBparams.csv', mode='r') as sgm:\n",
    "    reader = csv.reader(sgm)\n",
    "    rb_params = {}\n",
    "    for row in reader:\n",
    "        if row[0] == 'nseeds':\n",
    "            rb_params[row[0]] = int(row[1])\n",
    "        if row[0] == 'length_vector':\n",
    "            rb_params[row[0]] = []\n",
    "            for i in range(1,len(row)):\n",
    "                rb_params[row[0]].append(int(row[i]))\n",
    "rb_params"
   ]
  },
  {
   "cell_type": "code",
   "execution_count": 25,
   "metadata": {},
   "outputs": [],
   "source": [
    "#Read RB data\n",
    "import pandas as pd\n",
    "df = pd.DataFrame({'Length':[], 'Seed':[], 'Probability':[], 'Method':[]})\n",
    "for length in rb_params['length_vector']:\n",
    "    for seed in range(rb_params['nseeds']):\n",
    "        circ_name = 'len{}seed{}'.format(length,seed)\n",
    "        with open(file_address + circ_name + '.csv', mode='r') as sgm:\n",
    "            reader = csv.reader(sgm)\n",
    "            real_counts = {}\n",
    "            for row in reader:\n",
    "                if (len(row)> 0):\n",
    "                    real_counts[row[0]] = int(row[1])\n",
    "        #print(real_counts)\n",
    "        mean_counts = our_filter.filter_mean(real_counts)\n",
    "        mode_counts = our_filter.filter_mode(real_counts)\n",
    "        qis_counts = qiskit_filter.apply(real_counts)\n",
    "        QDT_counts = QDT_filter.filter(real_counts)\n",
    "        sbmean_counts = SB_filter.filter_mean(real_counts)\n",
    "        sbmode_counts = SB_filter.filter_mode(real_counts)\n",
    "        df = df.append({'Length': length, 'Seed': seed, 'Probability': real_counts['00']/8192, 'Method': 'Raw'}, ignore_index=True)\n",
    "#         df = df.append({'Length': length, 'Seed': seed, 'Probability': mean_counts['00']/8192, 'Method': 'Cons. Mean'}, ignore_index=True)\n",
    "#         df = df.append({'Length': length, 'Seed': seed, 'Probability': mode_counts['00']/8192, 'Method': 'Con. MAP'}, ignore_index=True)\n",
    "        df = df.append({'Length': length, 'Seed': seed, 'Probability': sbmean_counts['00']/8192, 'Method': 'Stand. Mean'}, ignore_index=True)\n",
    "#         df = df.append({'Length': length, 'Seed': seed, 'Probability': sbmode_counts['00']/8192, 'Method': 'Stand. MAP'}, ignore_index=True)\n",
    "        df = df.append({'Length': length, 'Seed': seed, 'Probability': qis_counts['00']/8192, 'Method': 'Qiskit'}, ignore_index=True)\n",
    "        df = df.append({'Length': length, 'Seed': seed, 'Probability': QDT_counts['00']/8192, 'Method': 'QDT'}, ignore_index=True)\n",
    "#df"
   ]
  },
  {
   "cell_type": "code",
   "execution_count": 26,
   "metadata": {},
   "outputs": [],
   "source": [
    "import seaborn as sns\n",
    "\n",
    "_widths = {\n",
    "    # a4paper columnwidth = 426.79135 pt = 5.93 in\n",
    "    # letterpaper columnwidth = 443.57848 pt = 6.16 in\n",
    "    'onecolumn': {\n",
    "        'a4paper' : 5.93,\n",
    "        'letterpaper' : 6.16\n",
    "    },\n",
    "    # a4paper columnwidth = 231.84843 pt = 3.22 in\n",
    "    # letterpaper columnwidth = 240.24199 pt = 3.34 in\n",
    "    'twocolumn': {\n",
    "        'a4paper' : 3.22,\n",
    "        'letterpaper' : 3.34\n",
    "    }\n",
    "}\n",
    "\n",
    "_wide_widths = {\n",
    "    # a4paper wide columnwidth = 426.79135 pt = 5.93 in\n",
    "    # letterpaper wide columnwidth = 443.57848 pt = 6.16 in\n",
    "    'onecolumn': {\n",
    "        'a4paper' : 5.93,\n",
    "        'letterpaper' : 6.16\n",
    "    },\n",
    "    # a4paper wide linewidth = 483.69687 pt = 6.72 in\n",
    "    # letterpaper wide linewidth = 500.48400 pt = 6.95 in\n",
    "    'twocolumn': {\n",
    "        'a4paper' : 6.72,\n",
    "        'letterpaper' : 6.95\n",
    "    }\n",
    "}\n",
    "\n",
    "_fontsizes = {\n",
    "    10 : {\n",
    "        'tiny' : 5,\n",
    "        'scriptsize' : 7,\n",
    "        'footnotesize' : 8, \n",
    "        'small' : 9, \n",
    "        'normalsize' : 10,\n",
    "        'large' : 12, \n",
    "        'Large' : 14, \n",
    "        'LARGE' : 17,\n",
    "        'huge' : 20,\n",
    "        'Huge' : 25\n",
    "    },\n",
    "    11 : {\n",
    "        'tiny' : 6,\n",
    "        'scriptsize' : 8,\n",
    "        'footnotesize' : 9, \n",
    "        'small' : 10, \n",
    "        'normalsize' : 11,\n",
    "        'large' : 12, \n",
    "        'Large' : 14, \n",
    "        'LARGE' : 17,\n",
    "        'huge' :  20,\n",
    "        'Huge' :  25\n",
    "    },\n",
    "    12 : {\n",
    "        'tiny' : 6,\n",
    "        'scriptsize' : 8,\n",
    "        'footnotesize' : 10, \n",
    "        'small' : 11, \n",
    "        'normalsize' : 12,\n",
    "        'large' : 14, \n",
    "        'Large' : 17, \n",
    "        'LARGE' : 20,\n",
    "        'huge' :  25,\n",
    "        'Huge' :  25\n",
    "    }\n",
    "}\n",
    "\n",
    "_width         = 1\n",
    "_wide_width    = 1\n",
    "_quantumviolet = '#53257F'\n",
    "_quantumgray   = '#555555'\n",
    "\n",
    "\n",
    "columns = 'twocolumn'\n",
    "paper = 'a4paper'\n",
    "fontsize = 10\n",
    "\n",
    "\n",
    "plt.rcdefaults()\n",
    "    \n",
    "# Seaborn white is a good base style\n",
    "plt.style.use(['seaborn-white', '../Plots/quantum-plots.mplstyle'])\n",
    "\n",
    "\n",
    "_width = _widths[columns][paper]\n",
    "\n",
    " \n",
    "_wide_width = _wide_widths[columns][paper]\n",
    "\n",
    "# Use the default fontsize scaling of LaTeX\n",
    "\n",
    "fontsizes = _fontsizes[fontsize]\n",
    "\n",
    "plt.rcParams['axes.labelsize'] = fontsizes['small']\n",
    "plt.rcParams['axes.titlesize'] = fontsizes['large']\n",
    "plt.rcParams['xtick.labelsize'] = fontsizes['footnotesize']\n",
    "plt.rcParams['ytick.labelsize'] = fontsizes['footnotesize']\n",
    "plt.rcParams['font.size'] = fontsizes['small']\n",
    "\n",
    "aspect_ratio = 1/1.62\n",
    "width_ratio = 1.0\n",
    "wide = False\n",
    "\n",
    "width = (_wide_width if wide else _width) * width_ratio\n",
    "height = width * aspect_ratio\n",
    "\n",
    "plt.rcParams[\"figure.dpi\"] = 120\n",
    "plt.rcParams[\"figure.figsize\"] = (width,height)"
   ]
  },
  {
   "cell_type": "code",
   "execution_count": 28,
   "metadata": {},
   "outputs": [
    {
     "name": "stdout",
     "output_type": "stream",
     "text": [
      "Length 1\n"
     ]
    },
    {
     "data": {
      "image/png": "[encoded data removed]",
      "text/plain": [
       "<Figure size 386.4x238.519 with 1 Axes>"
      ]
     },
     "metadata": {},
     "output_type": "display_data"
    },
    {
     "name": "stdout",
     "output_type": "stream",
     "text": [
      "Length 2\n"
     ]
    },
    {
     "data": {
      "image/png": "[encoded data removed]",
      "text/plain": [
       "<Figure size 386.4x238.519 with 1 Axes>"
      ]
     },
     "metadata": {},
     "output_type": "display_data"
    },
    {
     "name": "stdout",
     "output_type": "stream",
     "text": [
      "Length 3\n"
     ]
    },
    {
     "data": {
      "image/png": "[encoded data removed]",
      "text/plain": [
       "<Figure size 386.4x238.519 with 1 Axes>"
      ]
     },
     "metadata": {},
     "output_type": "display_data"
    },
    {
     "name": "stdout",
     "output_type": "stream",
     "text": [
      "Length 4\n"
     ]
    },
    {
     "data": {
      "image/png": "[encoded data removed]",
      "text/plain": [
       "<Figure size 386.4x238.519 with 1 Axes>"
      ]
     },
     "metadata": {},
     "output_type": "display_data"
    }
   ],
   "source": [
    "for length in rb_params['length_vector']:\n",
    "    print('Length {}'.format(length))\n",
    "    sub_df = df.loc[df['Length'] == length].drop(['Seed'], axis = 1)\n",
    "    ax = sub_df.boxplot(column = 'Probability', by = 'Method')\n",
    "#     ax.set_xlabel('',  fontsize=14)\n",
    "#     ax.set_ylabel('Pr(00)',  fontsize=14)\n",
    "    ax.set_xlabel('')\n",
    "    ax.set_ylabel('Pr(00)')\n",
    "    ax.set_title('')\n",
    "    plt.suptitle('')\n",
    "    plt.tight_layout()\n",
    "    plt.savefig(file_address + 'boxplot-len{}.pdf'.format(length))\n",
    "    plt.show()"
   ]
  },
  {
   "cell_type": "code",
   "execution_count": null,
   "metadata": {},
   "outputs": [],
   "source": []
  },
  {
   "cell_type": "code",
   "execution_count": null,
   "metadata": {},
   "outputs": [],
   "source": []
  }
 ],
 "metadata": {
  "kernelspec": {
   "display_name": "Python 3",
   "language": "python",
   "name": "python3"
  },
  "language_info": {
   "codemirror_mode": {
    "name": "ipython",
    "version": 3
   },
   "file_extension": ".py",
   "mimetype": "text/x-python",
   "name": "python",
   "nbconvert_exporter": "python",
   "pygments_lexer": "ipython3",
   "version": "3.7.10"
  }
 },
 "nbformat": 4,
 "nbformat_minor": 4
}
