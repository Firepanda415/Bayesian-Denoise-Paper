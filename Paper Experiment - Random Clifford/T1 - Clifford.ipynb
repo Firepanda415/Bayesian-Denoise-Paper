{
 "cells": [
  {
   "cell_type": "code",
   "execution_count": 1,
   "metadata": {},
   "outputs": [],
   "source": [
    "from qiskit import IBMQ\n",
    "\n",
    "# Load Account and Choose Backend\n",
    "IBMQ.load_account()\n",
    "provider = IBMQ.get_provider('ibm-q')\n",
    "name = 'ibmqx2'\n",
    "backend = provider.get_backend(name) # ibmq_16_melbourne, ibmq_vigo, ibmq_london, ibmq_burlington, ibmq_essex, ibmqx2, ibmq_ourense"
   ]
  },
  {
   "cell_type": "code",
   "execution_count": 2,
   "metadata": {},
   "outputs": [],
   "source": [
    "import warnings\n",
    "import sys\n",
    "sys.path.insert(1, '../Scripts')\n",
    "from expfuncs import *\n",
    "warnings.filterwarnings('ignore')\n",
    "\n",
    "interested_qubits = [2,1]\n",
    "itr = 32\n",
    "QDT_correlated = True\n",
    "noise_file_address = 'Noise/'\n",
    "file_address = 'T1/'\n",
    "#all_methods_data(interested_qubits,backend, itr, QDT_correlated, file_address = noise_file_address)"
   ]
  },
  {
   "cell_type": "code",
   "execution_count": 3,
   "metadata": {},
   "outputs": [],
   "source": [
    "#Import the RB Functions\n",
    "import qiskit.ignis.verification.randomized_benchmarking as rb\n",
    "\n",
    "#Generate RB circuits (2Q RB)\n",
    "#number of qubits\n",
    "nQ=2\n",
    "rb_opts = {}\n",
    "#Number of Cliffords in the sequence\n",
    "rb_opts['length_vector'] = [1,2,3,4]\n",
    "#Number of seeds (random sequences)\n",
    "rb_opts['nseeds'] = 16\n",
    "#Default pattern\n",
    "rb_opts['rb_pattern'] = [[1,2]]\n",
    "\n",
    "# with open(file_address + 'RBparams.csv', newline='',mode='w') as sgr:\n",
    "#     count_writer = csv.writer(sgr, delimiter=',', quotechar='\"', quoting=csv.QUOTE_MINIMAL)\n",
    "#     count_writer.writerow(['nseeds', rb_opts['nseeds']])\n",
    "#     arr = np.array(['length_vector'])\n",
    "#     count_writer.writerow(np.append(arr, rb_opts['length_vector']))\n",
    "\n",
    "# rb_circs, xdata = rb.randomized_benchmarking_seq(**rb_opts)\n",
    "# print(len(rb_circs))\n",
    "# rb_circs[0][0].draw(output='mpl')"
   ]
  },
  {
   "cell_type": "code",
   "execution_count": 4,
   "metadata": {},
   "outputs": [],
   "source": [
    "# circs = []\n",
    "# name_prefix = []\n",
    "# name_suffix = []\n",
    "# for i in range(rb_opts['nseeds']):\n",
    "#     n2 = 'seed'+str(i)\n",
    "#     name_suffix.append(n2)\n",
    "# for j in range(len(rb_opts['length_vector'])):\n",
    "#     n1 = 'len'+str(rb_opts['length_vector'][j])\n",
    "#     name_prefix.append(n1)\n",
    "    \n",
    "# for n1 in name_prefix:\n",
    "#     for n2 in name_suffix:\n",
    "#         circs.append(rb_circs[i][j].copy(n1+n2))"
   ]
  },
  {
   "cell_type": "code",
   "execution_count": 5,
   "metadata": {},
   "outputs": [],
   "source": [
    "# from qiskit import Aer,QuantumCircuit,transpile,execute,QuantumRegister\n",
    "# from qiskit.tools.monitor import job_monitor\n",
    "\n",
    "# backend = Aer.get_backend(\"qasm_simulator\")\n",
    "# shots = 8192\n",
    "# job = execute(circs, backend, shots=shots)\n",
    "# job_monitor(job)\n",
    "# res = job.result()\n",
    "# for length in name_prefix:\n",
    "#     print(length)\n",
    "#     for seed in name_suffix:\n",
    "#         print(seed)\n",
    "#         circ_name = length+seed\n",
    "#         with open(file_address + circ_name + '.csv',newline='', mode='w') as sgr:\n",
    "#             count_writer = csv.writer(sgr, delimiter=',', quotechar='\"', quoting=csv.QUOTE_MINIMAL)\n",
    "#             for key, val in res.get_counts(circ_name).items():\n",
    "#                 count_writer.writerow([key,val])"
   ]
  },
  {
   "cell_type": "code",
   "execution_count": 6,
   "metadata": {},
   "outputs": [
    {
     "name": "stdout",
     "output_type": "stream",
     "text": [
      "Standard Bayesian filter\n",
      "Our Filter\n",
      "Qiskit filter\n",
      "QDT filter\n"
     ]
    }
   ],
   "source": [
    "# Create Filters\n",
    "# Run R file first!\n",
    "our_filter, qiskit_filter, QDT_filter, SB_filter = create_filters(interested_qubits,QDT_correlated, show_denoised = False, from_file = True, file_address = noise_file_address)"
   ]
  },
  {
   "cell_type": "code",
   "execution_count": 7,
   "metadata": {},
   "outputs": [
    {
     "data": {
      "text/plain": [
       "{'nseeds': 16, 'length_vector': [1, 2, 3, 4]}"
      ]
     },
     "execution_count": 7,
     "metadata": {},
     "output_type": "execute_result"
    }
   ],
   "source": [
    "# Read RB paramsters\n",
    "with open(file_address + 'RBparams.csv', mode='r') as sgm:\n",
    "    reader = csv.reader(sgm)\n",
    "    rb_params = {}\n",
    "    for row in reader:\n",
    "        if row[0] == 'nseeds':\n",
    "            rb_params[row[0]] = int(row[1])\n",
    "        if row[0] == 'length_vector':\n",
    "            rb_params[row[0]] = []\n",
    "            for i in range(1,len(row)):\n",
    "                rb_params[row[0]].append(int(row[i]))\n",
    "rb_params"
   ]
  },
  {
   "cell_type": "code",
   "execution_count": 10,
   "metadata": {},
   "outputs": [],
   "source": [
    "#Read RB data\n",
    "import pandas as pd\n",
    "df = pd.DataFrame({'Length':[], 'Seed':[], 'Probability':[], 'Method':[]})\n",
    "for length in rb_params['length_vector']:\n",
    "    for seed in range(rb_params['nseeds']):\n",
    "        circ_name = 'len{}seed{}'.format(length,seed)\n",
    "        with open(file_address + circ_name + '.csv', mode='r') as sgm:\n",
    "            reader = csv.reader(sgm)\n",
    "            real_counts = {}\n",
    "            for row in reader:\n",
    "                if (len(row)> 0):\n",
    "                    real_counts[row[0]] = int(row[1])\n",
    "        #print(real_counts)\n",
    "        mean_counts = our_filter.filter_mean(real_counts)\n",
    "        mode_counts = our_filter.filter_mode(real_counts)\n",
    "        qis_counts = qiskit_filter.apply(real_counts)\n",
    "        QDT_counts = QDT_filter.filter(real_counts)\n",
    "        sbmean_counts = SB_filter.filter_mean(real_counts)\n",
    "        sbmode_counts = SB_filter.filter_mode(real_counts)\n",
    "        df = df.append({'Length': length, 'Seed': seed, 'Probability': real_counts['00']/8192, 'Method': 'Raw Data'}, ignore_index=True)\n",
    "        #df = df.append({'Length': length, 'Seed': seed, 'Probability': mean_counts['00']/8192, 'Method': 'BJW Mean'}, ignore_index=True)\n",
    "        #df = df.append({'Length': length, 'Seed': seed, 'Probability': mode_counts['00']/8192, 'Method': 'BJW MAP'}, ignore_index=True)\n",
    "        df = df.append({'Length': length, 'Seed': seed, 'Probability': sbmean_counts['00']/8192, 'Method': 'Stand. Mean'}, ignore_index=True)\n",
    "        df = df.append({'Length': length, 'Seed': seed, 'Probability': sbmode_counts['00']/8192, 'Method': 'Stand. MAP'}, ignore_index=True)\n",
    "        df = df.append({'Length': length, 'Seed': seed, 'Probability': qis_counts['00']/8192, 'Method': 'Qiskit Method'}, ignore_index=True)\n",
    "        df = df.append({'Length': length, 'Seed': seed, 'Probability': QDT_counts['00']/8192, 'Method': 'QDT'}, ignore_index=True)\n",
    "#df"
   ]
  },
  {
   "cell_type": "code",
   "execution_count": 13,
   "metadata": {},
   "outputs": [
    {
     "name": "stdout",
     "output_type": "stream",
     "text": [
      "Length 1\n"
     ]
    },
    {
     "data": {
      "image/png": "[encoded data removed]",
      "text/plain": [
       "<Figure size 432x288 with 1 Axes>"
      ]
     },
     "metadata": {
      "needs_background": "light"
     },
     "output_type": "display_data"
    },
    {
     "name": "stdout",
     "output_type": "stream",
     "text": [
      "Length 2\n"
     ]
    },
    {
     "data": {
      "image/png": "[encoded data removed]",
      "text/plain": [
       "<Figure size 432x288 with 1 Axes>"
      ]
     },
     "metadata": {
      "needs_background": "light"
     },
     "output_type": "display_data"
    },
    {
     "name": "stdout",
     "output_type": "stream",
     "text": [
      "Length 3\n"
     ]
    },
    {
     "data": {
      "image/png": "[encoded data removed]",
      "text/plain": [
       "<Figure size 432x288 with 1 Axes>"
      ]
     },
     "metadata": {
      "needs_background": "light"
     },
     "output_type": "display_data"
    },
    {
     "name": "stdout",
     "output_type": "stream",
     "text": [
      "Length 4\n"
     ]
    },
    {
     "data": {
      "image/png": "[encoded data removed]",
      "text/plain": [
       "<Figure size 432x288 with 1 Axes>"
      ]
     },
     "metadata": {
      "needs_background": "light"
     },
     "output_type": "display_data"
    }
   ],
   "source": [
    "for length in rb_params['length_vector']:\n",
    "    print('Length {}'.format(length))\n",
    "    sub_df = df.loc[df['Length'] == length]\n",
    "    ax = sub_df.drop(['Seed'], axis = 1).boxplot(column = 'Probability', by = 'Method')\n",
    "    #ax.set_xlabel('Methods')\n",
    "    ax.set_xlabel('')\n",
    "    ax.set_ylabel('Probability')\n",
    "    ax.set_title('')\n",
    "    plt.suptitle('')\n",
    "    plt.savefig(file_address + 'boxplot-len{}.jpg'.format(length))\n",
    "    plt.show()"
   ]
  },
  {
   "cell_type": "code",
   "execution_count": null,
   "metadata": {},
   "outputs": [],
   "source": []
  }
 ],
 "metadata": {
  "kernelspec": {
   "display_name": "Python 3",
   "language": "python",
   "name": "python3"
  },
  "language_info": {
   "codemirror_mode": {
    "name": "ipython",
    "version": 3
   },
   "file_extension": ".py",
   "mimetype": "text/x-python",
   "name": "python",
   "nbconvert_exporter": "python",
   "pygments_lexer": "ipython3",
   "version": "3.7.7"
  }
 },
 "nbformat": 4,
 "nbformat_minor": 4
}
