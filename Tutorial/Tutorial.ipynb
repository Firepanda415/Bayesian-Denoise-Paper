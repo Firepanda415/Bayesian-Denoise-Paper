{
 "cells": [
  {
   "cell_type": "code",
   "execution_count": 11,
   "metadata": {},
   "outputs": [],
   "source": [
    "# Add path\n",
    "import sys\n",
    "sys.path.insert(1, '../Scripts')\n",
    "\n",
    "# Packages for Our filters\n",
    "import measfilter as mf # package for measurement error filter\n",
    "import gatesimu as gs # package for gate and measurment error filter\n",
    "\n",
    "from qiskit import IBMQ, QuantumRegister, transpile, execute\n",
    "# Package for Qiskit error filter\n",
    "from qiskit.ignis.mitigation.measurement import (complete_meas_cal,CompleteMeasFitter,MeasurementFilter)\n",
    "\n",
    "# Package for other Qiskit functions\n",
    "from qiskit.tools.monitor import job_monitor\n",
    "from qiskit.visualization import plot_histogram\n",
    "\n",
    "\n",
    "# Needed for functions\n",
    "import numpy as np\n",
    "import matplotlib.pyplot as plt"
   ]
  },
  {
   "cell_type": "markdown",
   "metadata": {},
   "source": [
    "# Tutorial\n",
    "\n",
    "## Section 1: Measurmenet Error\n",
    "### Create filter for measurment error\n",
    "\n",
    "First, we choose a backend to operate."
   ]
  },
  {
   "cell_type": "code",
   "execution_count": 2,
   "metadata": {},
   "outputs": [
    {
     "name": "stderr",
     "output_type": "stream",
     "text": [
      "C:\\ProgramData\\Anaconda3\\lib\\site-packages\\qiskit\\providers\\ibmq\\ibmqfactory.py:192: UserWarning: Timestamps in IBMQ backend properties, jobs, and job results are all now in local time instead of UTC.\n",
      "  warnings.warn('Timestamps in IBMQ backend properties, jobs, and job results '\n"
     ]
    }
   ],
   "source": [
    "# Load Account and Choose Backend\n",
    "IBMQ.load_account()\n",
    "provider = IBMQ.get_provider('ibm-q')\n",
    "name = 'ibmqx2' # ibmq_16_melbourne, ibmq_vigo, ibmq_london, ibmq_burlington, ibmq_essex, ibmqx2, ibmq_ourense\n",
    "backend = provider.get_backend(name) "
   ]
  },
  {
   "cell_type": "markdown",
   "metadata": {},
   "source": [
    "We plan to run Grover's search whose solution is 11. So we first look at which quibits we will need to get information. The circuit will run on Qubit 0, 1, and 2. But the measurment operation is only on Qubit 1 and 2."
   ]
  },
  {
   "cell_type": "code",
   "execution_count": 3,
   "metadata": {},
   "outputs": [],
   "source": [
    "interested_qubits = [2,1] # Descending order because Qiskit's readout is little-endian"
   ]
  },
  {
   "cell_type": "markdown",
   "metadata": {},
   "source": [
    "Now we collect data for our filter. Here we make `if_write=True` so that we can save the data and re-create the filter anytime we want. But no matter if `if_write=True` or not, a file that records backend proporties will be generated under `file_address`. if `file_address` is an empty string, the data will be saved where the script runs, otherwise `file_address` need to end with `/`."
   ]
  },
  {
   "cell_type": "markdown",
   "metadata": {},
   "source": [
    "By default, `itr * shots / 1024` number of data points will be used for Bayesian inference latter. `32 * 8192` usually takes a few minutes."
   ]
  },
  {
   "cell_type": "code",
   "execution_count": 5,
   "metadata": {},
   "outputs": [
    {
     "name": "stdout",
     "output_type": "stream",
     "text": [
      "Job Status: job has successfully run\n"
     ]
    }
   ],
   "source": [
    "itr = 32\n",
    "shots = 8192\n",
    "file_address = ''\n",
    "readout = mf.collect_filter_data(backend, itr=itr,shots=shots,if_monitor_job=True,if_write=True,file_address=file_address)"
   ]
  },
  {
   "cell_type": "markdown",
   "metadata": {},
   "source": [
    "Collect data for the measurement error filter in Qiskit. So we can do a comparison at the end."
   ]
  },
  {
   "cell_type": "code",
   "execution_count": 12,
   "metadata": {},
   "outputs": [
    {
     "name": "stdout",
     "output_type": "stream",
     "text": [
      "Job Status: job has successfully run\n"
     ]
    }
   ],
   "source": [
    "qr = QuantumRegister(len(interested_qubits))\n",
    "meas_calibs, state_labels = complete_meas_cal(qr=qr, circlabel='mcal')\n",
    "for i in range(len(meas_calibs)):\n",
    "    meas_calibs[i] = transpile(meas_calibs[i],backend,initial_layout=interested_qubits)\n",
    "\n",
    "job = execute(meas_calibs, backend=backend,shots=8192,optimization_level=0)\n",
    "job_monitor(job)\n",
    "\n",
    "cal_results = job.result()\n",
    "meas_fitter = CompleteMeasFitter(cal_results,state_labels,circlabel='mcal')\n",
    "meas_filter = meas_fitter.filter"
   ]
  },
  {
   "cell_type": "markdown",
   "metadata": {},
   "source": [
    "Then we can create our filter and run `inference()` to inference the data. If  `inference()` is run once, `post_from_file()` can directly read previous posteriors."
   ]
  },
  {
   "cell_type": "code",
   "execution_count": 16,
   "metadata": {},
   "outputs": [],
   "source": [
    "Cons_filter = mf.MeasFilter(interested_qubits, file_address=file_address)\n",
    "# BJW_filter.inference(nPrior=40000, Priod_sd=0.1, seed=127, shots_per_point=1024)\n",
    "Cons_filter.post_from_file() # if inference() is already run once"
   ]
  },
  {
   "cell_type": "code",
   "execution_count": 17,
   "metadata": {},
   "outputs": [
    {
     "data": {
      "text/plain": [
       "{'Qubit2': array([0.93783025, 0.91442647]),\n",
       " 'Qubit1': array([0.93658071, 0.90995038])}"
      ]
     },
     "execution_count": 17,
     "metadata": {},
     "output_type": "execute_result"
    }
   ],
   "source": [
    "Cons_filter.mean()"
   ]
  },
  {
   "cell_type": "code",
   "execution_count": 18,
   "metadata": {},
   "outputs": [
    {
     "data": {
      "text/plain": [
       "{'Qubit2': array([0.96526854, 0.93027125]),\n",
       " 'Qubit1': array([0.96223865, 0.92265612])}"
      ]
     },
     "execution_count": 18,
     "metadata": {},
     "output_type": "execute_result"
    }
   ],
   "source": [
    "Cons_filter.mode()"
   ]
  },
  {
   "cell_type": "markdown",
   "metadata": {},
   "source": [
    "### Grover's search Experiment"
   ]
  },
  {
   "cell_type": "markdown",
   "metadata": {},
   "source": [
    "Run provided Grover's search experiment, the counts will be written to `Count_Grover.csv`. Then we read the data back."
   ]
  },
  {
   "cell_type": "code",
   "execution_count": 20,
   "metadata": {},
   "outputs": [
    {
     "name": "stdout",
     "output_type": "stream",
     "text": [
      "Grover circuit depth is  39\n",
      "Job Status: job has successfully run\n"
     ]
    }
   ],
   "source": [
    "from expfuncs import Groverexp\n",
    "Groverexp(backend, file_address=file_address)"
   ]
  },
  {
   "cell_type": "code",
   "execution_count": 22,
   "metadata": {},
   "outputs": [],
   "source": [
    "# Read Grover data\n",
    "import csv\n",
    "with open(file_address + 'Count_Grover.csv', mode='r') as sgm:\n",
    "    reader = csv.reader(sgm)\n",
    "    temp_counts = {}\n",
    "    for row in reader:   \n",
    "        temp_counts[row[0]] = int(row[1])\n",
    "real_counts = {}\n",
    "for key in temp_counts.keys():\n",
    "    real_counts[key[0:2]] = temp_counts[key] # we only measurmeent last two qubits, so slice the keys"
   ]
  },
  {
   "cell_type": "code",
   "execution_count": 23,
   "metadata": {},
   "outputs": [],
   "source": [
    "qis_counts = meas_filter.apply(real_counts)\n",
    "mean_counts = Cons_filter.filter_mean(real_counts)\n",
    "mode_counts = Cons_filter.filter_mode(real_counts)"
   ]
  },
  {
   "cell_type": "code",
   "execution_count": 24,
   "metadata": {},
   "outputs": [
    {
     "data": {
      "image/png": "[encoded data removed]",
      "text/plain": [
       "<Figure size 504x360 with 1 Axes>"
      ]
     },
     "execution_count": 24,
     "metadata": {},
     "output_type": "execute_result"
    }
   ],
   "source": [
    "legend = ['Raw Data', 'Qiskit', 'Consistent Mean', 'Consistent Mode']\n",
    "plot_histogram([real_counts, qis_counts, mean_counts, mode_counts], legend=legend)"
   ]
  },
  {
   "cell_type": "code",
   "execution_count": null,
   "metadata": {},
   "outputs": [],
   "source": []
  },
  {
   "cell_type": "code",
   "execution_count": null,
   "metadata": {},
   "outputs": [],
   "source": []
  },
  {
   "cell_type": "code",
   "execution_count": null,
   "metadata": {},
   "outputs": [],
   "source": []
  },
  {
   "cell_type": "markdown",
   "metadata": {},
   "source": [
    "## Section 2: Gate and Measurmenet Error"
   ]
  },
  {
   "cell_type": "code",
   "execution_count": null,
   "metadata": {},
   "outputs": [],
   "source": [
    "interested_qubits = [4,3]\n",
    "gate_num = 100\n",
    "gate_type = 'X'\n",
    "\n",
    "# Collect U3-Gate Data\n",
    "for q in interested_qubits:\n",
    "    gs.Gateexp(gate_num, gate_type, q, itr, backend, file_address =file_address)"
   ]
  },
  {
   "cell_type": "code",
   "execution_count": null,
   "metadata": {},
   "outputs": [],
   "source": [
    "# Read data back\n",
    "with open(file_address + 'Readout_{}{}Q{}.csv'.format(gate_num, gate_type, interested_qubits[1]), mode='r') as measfile:\n",
    "    reader = csv.reader(measfile)    \n",
    "    data1 = np.asarray([row for row in reader][0])\n",
    "with open(file_address + 'Readout_{}{}Q{}.csv'.format(gate_num, gate_type, interested_qubits[0]), mode='r') as measfile:\n",
    "    reader = csv.reader(measfile) \n",
    "    data2 = np.asarray([row for row in reader][0])"
   ]
  },
  {
   "cell_type": "code",
   "execution_count": null,
   "metadata": {},
   "outputs": [],
   "source": [
    "gs_filter = gs.GMFilter(interested_qubits,gate_num, gate_type, device_param_address=file_address, data_file_address=file_address)\n",
    "# gs_filter.inference(nPrior=40000, meas_sd=0.1, gate_sd=0.01, seed=127, shots_per_point=1024)\n",
    "gs_filter.post_from_file()"
   ]
  },
  {
   "cell_type": "code",
   "execution_count": null,
   "metadata": {},
   "outputs": [],
   "source": [
    "# Read data back\n",
    "with open(file_address + 'Readout_{}{}Q{}.csv'.format(gate_num, gate_type, interested_qubits[1]), mode='r') as measfile:\n",
    "    reader = csv.reader(measfile)    \n",
    "    data1 = np.asarray([row for row in reader][0])\n",
    "with open(file_address + 'Readout_{}{}Q{}.csv'.format(gate_num, gate_type, interested_qubits[0]), mode='r') as measfile:\n",
    "    reader = csv.reader(measfile) \n",
    "    data2 = np.asarray([row for row in reader][0])\n",
    "    \n",
    "p0s1 = mf.getData0(data1, 128, interested_qubits[1])\n",
    "p0s2 = mf.getData0(data2, 128, interested_qubits[0])"
   ]
  },
  {
   "cell_type": "code",
   "execution_count": null,
   "metadata": {},
   "outputs": [],
   "source": [
    "Q1BJW = gs_filter.filter_mean(p0s1, interested_qubits[1])\n",
    "Q2BJW = gs_filter.filter_mean(p0s2, interested_qubits[0])"
   ]
  },
  {
   "cell_type": "code",
   "execution_count": null,
   "metadata": {},
   "outputs": [],
   "source": [
    "plt.hist(Q1BJW, label = 'Qubit{}'.format(interested_qubits[1]))\n",
    "plt.xlabel('Probability of measuring 0')\n",
    "plt.ylabel('Counts')\n",
    "plt.legend()\n",
    "plt.show()\n",
    "plt.hist(Q2BJW, label = 'Qubit{}'.format(interested_qubits[0]))\n",
    "plt.xlabel('Probability of measuring 0')\n",
    "plt.ylabel('Counts')\n",
    "plt.legend()\n",
    "plt.show()"
   ]
  },
  {
   "cell_type": "code",
   "execution_count": null,
   "metadata": {},
   "outputs": [],
   "source": []
  }
 ],
 "metadata": {
  "kernelspec": {
   "display_name": "Python 3",
   "language": "python",
   "name": "python3"
  },
  "language_info": {
   "codemirror_mode": {
    "name": "ipython",
    "version": 3
   },
   "file_extension": ".py",
   "mimetype": "text/x-python",
   "name": "python",
   "nbconvert_exporter": "python",
   "pygments_lexer": "ipython3",
   "version": "3.7.7"
  }
 },
 "nbformat": 4,
 "nbformat_minor": 4
}
