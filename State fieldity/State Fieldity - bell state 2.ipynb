{
 "cells": [
  {
   "cell_type": "code",
   "execution_count": 1,
   "metadata": {},
   "outputs": [],
   "source": [
    "# Add path\n",
    "import sys\n",
    "sys.path.insert(1, '../Scripts')\n",
    "\n",
    "# Packages for Our filters\n",
    "import measfilter as mf # package for measurement error filter\n",
    "import gatesimu as gs # package for gate and measurment error filter\n",
    "import expfuncs as ef\n",
    "\n",
    "# Package for other Qiskit functions\n",
    "from qiskit import Aer, IBMQ, QuantumCircuit, transpile, execute, QuantumRegister, ClassicalRegister\n",
    "from qiskit.tools.monitor import job_monitor\n",
    "from qiskit.visualization import plot_histogram\n",
    "\n",
    "\n",
    "# Needed for functions\n",
    "import numpy as np\n",
    "import time\n",
    "from copy import deepcopy\n",
    "import pandas as pd\n",
    "\n",
    "# Import Qiskit classes\n",
    "import qiskit \n",
    "from qiskit.quantum_info import state_fidelity\n",
    "from qiskit.providers.aer import noise\n",
    "\n",
    "# Tomography functions\n",
    "from qiskit.ignis.verification.tomography import state_tomography_circuits, StateTomographyFitter\n",
    "import qiskit.ignis.mitigation.measurement as mc"
   ]
  },
  {
   "cell_type": "code",
   "execution_count": 2,
   "metadata": {},
   "outputs": [],
   "source": [
    "# Load Account and Choose Backend\n",
    "IBMQ.load_account()\n",
    "provider = IBMQ.get_provider('ibm-q')\n",
    "name = 'ibmqx2' # ibmq_16_melbourne, ibmq_vigo, ibmq_london, ibmq_burlington, ibmq_essex, ibmqx2, ibmq_ourense\n",
    "backend = provider.get_backend(name) "
   ]
  },
  {
   "cell_type": "code",
   "execution_count": 3,
   "metadata": {},
   "outputs": [],
   "source": [
    "interested_qubits = [2,1] # Descending order because Qiskit's readout is little-endian\n",
    "\n",
    "itr = 32\n",
    "shots = 8192\n",
    "file_address = ''\n",
    "#readout = mf.collect_filter_data(backend, itr=itr,shots=shots,if_monitor_job=True,if_write=True,file_address=file_address)"
   ]
  },
  {
   "cell_type": "code",
   "execution_count": 6,
   "metadata": {},
   "outputs": [],
   "source": [
    "BJW_filter = mf.MeasFilter(interested_qubits, file_address=file_address)\n",
    "#BJW_filter.inference(nPrior=40000, Priod_sd=0.1, seed=127, shots_per_point=1024)\n",
    "BJW_filter.post_from_file() # if inference() is already run once"
   ]
  },
  {
   "cell_type": "code",
   "execution_count": 7,
   "metadata": {},
   "outputs": [
    {
     "name": "stdout",
     "output_type": "stream",
     "text": [
      "Job Status: job has successfully run\n"
     ]
    }
   ],
   "source": [
    "meas_calibs, state_labels = mc.complete_meas_cal(qubit_list=[1,2], circlabel='mcal')\n",
    "job = execute(meas_calibs, backend=backend,shots=8192,optimization_level=0)\n",
    "job_monitor(job)\n",
    "\n",
    "cal_results = job.result()\n",
    "meas_fitter = mc.CompleteMeasFitter(cal_results,state_labels,circlabel='mcal')\n",
    "meas_filter = meas_fitter.filter"
   ]
  },
  {
   "cell_type": "code",
   "execution_count": 19,
   "metadata": {},
   "outputs": [
    {
     "name": "stdout",
     "output_type": "stream",
     "text": [
      "[0.        +0.j 0.70710678+0.j 0.70710678+0.j 0.        +0.j]\n",
      "                \n",
      "q8_0: ──────────\n",
      "      ┌───┐     \n",
      "q8_1: ┤ H ├──■──\n",
      "      ├───┤┌─┴─┐\n",
      "q8_2: ┤ X ├┤ X ├\n",
      "      └───┘└───┘\n",
      "q8_3: ──────────\n",
      "                \n",
      "q8_4: ──────────\n",
      "                \n"
     ]
    }
   ],
   "source": [
    "# Create the expected density matrix\n",
    "q2 = QuantumRegister(2)\n",
    "bell = QuantumCircuit(q2)\n",
    "bell.x(q2[1])\n",
    "bell.h(q2[0])\n",
    "bell.cx(q2[0], q2[1])\n",
    "job = qiskit.execute(bell, Aer.get_backend('statevector_simulator'))\n",
    "psi_bell = job.result().get_statevector(bell)\n",
    "print(psi_bell)\n",
    "\n",
    "# Create the actual circuit \n",
    "q2 = QuantumRegister(5)\n",
    "bell = QuantumCircuit(q2)\n",
    "bell.x(q2[2])\n",
    "bell.h(q2[1])\n",
    "bell.cx(q2[1], q2[2])\n",
    "print(bell)\n",
    "# Generate the state tomography circuits. Only pass in the \n",
    "# registers we want to measure (in this case 1 and 2)\n",
    "qst_bell = state_tomography_circuits(bell, [q2[1],q2[2]])"
   ]
  },
  {
   "cell_type": "code",
   "execution_count": 20,
   "metadata": {},
   "outputs": [
    {
     "name": "stdout",
     "output_type": "stream",
     "text": [
      "Job Status: job has successfully run\n"
     ]
    }
   ],
   "source": [
    "job_tomo = qiskit.execute(qst_bell, backend=backend, shots=8192)\n",
    "job_monitor(job_tomo)\n",
    "tomo_bell = StateTomographyFitter(job_tomo.result(), qst_bell)"
   ]
  },
  {
   "cell_type": "code",
   "execution_count": 27,
   "metadata": {},
   "outputs": [
    {
     "name": "stdout",
     "output_type": "stream",
     "text": [
      "Fit Fidelity (no correction) = 0.9156999148912002\n"
     ]
    }
   ],
   "source": [
    "tomo_bell = StateTomographyFitter(job_tomo.result(), qst_bell)\n",
    "#no correction\n",
    "rho_bell = tomo_bell.fit()\n",
    "F_bell = state_fidelity(psi_bell, rho_bell)\n",
    "print('Fit Fidelity (no correction) =', F_bell)"
   ]
  },
  {
   "cell_type": "code",
   "execution_count": 32,
   "metadata": {},
   "outputs": [
    {
     "name": "stdout",
     "output_type": "stream",
     "text": [
      "Qiskit: Fit Fidelity (w/ correction) = 0.9802829007065308\n"
     ]
    }
   ],
   "source": [
    "#correct data\n",
    "correct_tomo_results = meas_fitter.filter.apply(job_tomo.result(), method='least_squares')\n",
    "tomo_bell = StateTomographyFitter(correct_tomo_results, qst_bell)\n",
    "rho_bell = tomo_bell.fit()\n",
    "F_bell = state_fidelity(psi_bell, rho_bell)\n",
    "print('Qiskit: Fit Fidelity (w/ correction) =', F_bell)"
   ]
  },
  {
   "cell_type": "code",
   "execution_count": 29,
   "metadata": {},
   "outputs": [],
   "source": [
    "import csv\n",
    "cal_matrix = meas_fitter.filter.cal_matrix\n",
    "\n",
    "with open(file_address + 'cal_matrix2.csv', mode='w', newline='') as sgm:\n",
    "    param_writer = csv.writer(sgm,\n",
    "                              delimiter=',',\n",
    "                              quotechar='\"',\n",
    "                              quoting=csv.QUOTE_MINIMAL)\n",
    "    for row in cal_matrix:\n",
    "        param_writer.writerow(row)\n",
    "with open(file_address + 'state_labels2.csv', mode='w', newline='') as sgm:\n",
    "    param_writer = csv.writer(sgm,\n",
    "                              delimiter=',',\n",
    "                              quotechar='\"',\n",
    "                              quoting=csv.QUOTE_MINIMAL)\n",
    "    param_writer.writerow(state_labels)"
   ]
  },
  {
   "cell_type": "code",
   "execution_count": 22,
   "metadata": {},
   "outputs": [],
   "source": [
    "first = True\n",
    "for q in [2,1]:\n",
    "    if first:\n",
    "        postLam_mean = mf.closest_average(BJW_filter.post['Qubit' + str(q)])\n",
    "        Mx = mf.errMitMat(postLam_mean)\n",
    "        first = False\n",
    "    else:\n",
    "        postLam_mean = mf.closest_average(BJW_filter.post['Qubit' + str(q)])\n",
    "        Msub = mf.errMitMat(postLam_mean)\n",
    "        Mx = np.kron(Mx, Msub)\n",
    "mat_mean = Mx"
   ]
  },
  {
   "cell_type": "code",
   "execution_count": 23,
   "metadata": {},
   "outputs": [],
   "source": [
    "our_filter = mc.MeasurementFilter(mat_mean, state_labels)"
   ]
  },
  {
   "cell_type": "code",
   "execution_count": 24,
   "metadata": {},
   "outputs": [
    {
     "name": "stdout",
     "output_type": "stream",
     "text": [
      "BJW   : Fit Fidelity (w/ correction) = 0.9806062542937268\n"
     ]
    }
   ],
   "source": [
    "#correct data\n",
    "correct_tomo_results_BJW = our_filter.apply(job_tomo.result(), method='least_squares')\n",
    "tomo_bell_BJW = StateTomographyFitter(correct_tomo_results_BJW, qst_bell)\n",
    "rho_bell_BJW = tomo_bell_BJW.fit()\n",
    "F_bell_BJW = state_fidelity(psi_bell, rho_bell_BJW)\n",
    "print('BJW   : Fit Fidelity (w/ correction) =', F_bell_BJW)"
   ]
  },
  {
   "cell_type": "code",
   "execution_count": 25,
   "metadata": {},
   "outputs": [],
   "source": [
    "post_dict = {}\n",
    "for q in interested_qubits:\n",
    "    post_dict['Qubit{}'.format(q)] = pd.read_csv(\n",
    "        file_address + 'StandPostQubit{}.csv'.format(q)).to_numpy()\n",
    "\n",
    "stand_filter = ef.MeasFilterSB(interested_qubits, post_dict)\n",
    "try:\n",
    "    stand_filter.filter_mean(job_tomo)\n",
    "except:\n",
    "    pass\n",
    "SB_filter = mc.MeasurementFilter(stand_filter.mat_mean, state_labels)"
   ]
  },
  {
   "cell_type": "code",
   "execution_count": 26,
   "metadata": {},
   "outputs": [
    {
     "name": "stdout",
     "output_type": "stream",
     "text": [
      "SB    : Fit Fidelity (w/ correction) = 0.9807800910820608\n"
     ]
    }
   ],
   "source": [
    "#correct data\n",
    "correct_tomo_results_SB = SB_filter.apply(job_tomo.result(), method='least_squares')\n",
    "tomo_bell_SB = StateTomographyFitter(correct_tomo_results_SB, qst_bell)\n",
    "rho_bell_SB = tomo_bell_SB.fit()\n",
    "F_bell_SB = state_fidelity(psi_bell, rho_bell_SB)\n",
    "print('SB    : Fit Fidelity (w/ correction) =', F_bell_SB)"
   ]
  },
  {
   "cell_type": "code",
   "execution_count": 31,
   "metadata": {},
   "outputs": [
    {
     "name": "stdout",
     "output_type": "stream",
     "text": [
      "Write data for standard Bayesian\n"
     ]
    }
   ],
   "source": [
    "# import csv\n",
    "# shots_per_point = 1024\n",
    "# # Data for Standard Bayesian\n",
    "# # Read data to for measurement error while input is |0>\n",
    "# print('Write data for standard Bayesian')\n",
    "# prop_dict = backend.properties().to_dict()\n",
    "# with open(file_address + 'given_params.csv', mode='w', newline='') as sgm:\n",
    "#     param_writer = csv.writer(sgm,\n",
    "#                               delimiter=',',\n",
    "#                               quotechar='\"',\n",
    "#                               quoting=csv.QUOTE_MINIMAL)\n",
    "#     for q in interested_qubits:\n",
    "#         p0m0 = 1 - prop_dict['qubits'][q][5]['value']\n",
    "#         if p0m0 == 1 or p0m0 < 0.7:\n",
    "#             p0m0 = 0.9\n",
    "#         p1m1 = 1 - prop_dict['qubits'][q][4]['value']\n",
    "#         if p1m1 == 1 or p1m1 < 0.7:\n",
    "#             p1m1 = 0.9\n",
    "#         param_writer.writerow([p0m0, p1m1])\n",
    "\n",
    "# with open(file_address + 'Filter_data.csv', mode='r') as measfile:\n",
    "#     reader = csv.reader(measfile)\n",
    "#     cali01 = np.asarray([row for row in reader][0])\n",
    "\n",
    "# Data = cali01\n",
    "# for q in interested_qubits:\n",
    "#     y = mf.getData0(Data, itr * int(8192 / shots_per_point), q)\n",
    "#     with open(file_address + 'Qubit{}.csv'.format(q), mode='w',\n",
    "#               newline='') as sgr:\n",
    "#         read_writer = csv.writer(sgr,\n",
    "#                                  delimiter=',',\n",
    "#                                  quotechar='\"',\n",
    "#                                  quoting=csv.QUOTE_MINIMAL)\n",
    "#         read_writer.writerow(['x', 'y'])\n",
    "#         for i in range(len(y)):\n",
    "#             read_writer.writerow([0.5, y[i]])"
   ]
  },
  {
   "cell_type": "code",
   "execution_count": null,
   "metadata": {},
   "outputs": [],
   "source": []
  }
 ],
 "metadata": {
  "kernelspec": {
   "display_name": "Python 3",
   "language": "python",
   "name": "python3"
  },
  "language_info": {
   "codemirror_mode": {
    "name": "ipython",
    "version": 3
   },
   "file_extension": ".py",
   "mimetype": "text/x-python",
   "name": "python",
   "nbconvert_exporter": "python",
   "pygments_lexer": "ipython3",
   "version": "3.7.7"
  }
 },
 "nbformat": 4,
 "nbformat_minor": 4
}
