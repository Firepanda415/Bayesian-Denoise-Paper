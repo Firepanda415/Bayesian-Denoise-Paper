{
 "cells": [
  {
   "cell_type": "code",
   "execution_count": 1,
   "metadata": {},
   "outputs": [],
   "source": [
    "import numpy as np\n",
    "import sys\n",
    "sys.path.insert(1, '../Scripts')\n",
    "from gatesimu import QoI\n",
    "\n",
    "import matplotlib.pyplot as plt\n",
    "from qiskit.tools.visualization import plot_histogram\n",
    "from qiskit import QuantumCircuit,transpile,execute\n",
    "\n",
    "# Qiskit Aer noise module imports\n",
    "from qiskit.providers.aer import QasmSimulator\n",
    "from qiskit.providers.aer.noise import NoiseModel\n",
    "from qiskit.providers.aer.noise.errors import ReadoutError\n",
    "from qiskit.providers.aer.noise.errors import depolarizing_error"
   ]
  },
  {
   "cell_type": "code",
   "execution_count": 2,
   "metadata": {},
   "outputs": [],
   "source": [
    "nGates = 200\n",
    "interested_qubit = 0\n",
    "p0m0 = 0.9255\n",
    "p1m1 = 0.8922\n",
    "eps = 0.009868"
   ]
  },
  {
   "cell_type": "code",
   "execution_count": 3,
   "metadata": {},
   "outputs": [
    {
     "name": "stdout",
     "output_type": "stream",
     "text": [
      "NoiseModel:\n",
      "  Basis gates: ['cx', 'id', 'u1', 'u2', 'u3']\n",
      "  Instructions with noise: ['measure', 'u3', 'u1', 'u2']\n",
      "  Qubits with noise: [0]\n",
      "  Specific qubit errors: [('u1', [0]), ('u2', [0]), ('u3', [0]), ('measure', [0])]\n"
     ]
    }
   ],
   "source": [
    "noise_model = NoiseModel()\n",
    "\n",
    "# Add depolarizing error to all single qubit u1, u2, u3 gates on qubit 0 only\n",
    "error = depolarizing_error(eps, 1)\n",
    "readout_error = ReadoutError([[p0m0, 1 - p0m0], [1 - p1m1, p1m1]])\n",
    "noise_model.add_quantum_error(error, [\"u1\", \"u2\", \"u3\"],[interested_qubit])\n",
    "noise_model.add_readout_error(readout_error,[interested_qubit])\n",
    "# Print noise model info\n",
    "print(noise_model)"
   ]
  },
  {
   "cell_type": "code",
   "execution_count": 8,
   "metadata": {},
   "outputs": [
    {
     "name": "stdout",
     "output_type": "stream",
     "text": [
      "Circ depth is  201\n",
      "Ideal and noisy prob of measuring 0 are  [1.         0.57290788]\n"
     ]
    }
   ],
   "source": [
    "circ = QuantumCircuit(5,5)\n",
    "for _ in range(nGates):\n",
    "    circ.x(interested_qubit)\n",
    "    circ.barrier(interested_qubit)\n",
    "circ.measure([interested_qubit],[interested_qubit])\n",
    "print('Circ depth is ', circ.depth())\n",
    "print('Ideal and noisy prob of measuring 0 are ', QoI(np.array([[1,1,0],[p0m0,p1m1,eps]]),1, nGates))"
   ]
  },
  {
   "cell_type": "code",
   "execution_count": 5,
   "metadata": {},
   "outputs": [],
   "source": [
    "simulator = QasmSimulator()\n",
    "job = execute(circ, simulator, noise_model=noise_model, basis_gates=noise_model.basis_gates, shots = 1000000)"
   ]
  },
  {
   "cell_type": "code",
   "execution_count": 6,
   "metadata": {},
   "outputs": [
    {
     "name": "stdout",
     "output_type": "stream",
     "text": [
      "{'00000': 572113, '00001': 427887}\n"
     ]
    },
    {
     "data": {
      "image/png": "[encoded data removed]",
      "text/plain": [
       "<Figure size 504x360 with 1 Axes>"
      ]
     },
     "execution_count": 6,
     "metadata": {},
     "output_type": "execute_result"
    }
   ],
   "source": [
    "print(job.result().get_counts())\n",
    "plot_histogram(job.result().get_counts())"
   ]
  },
  {
   "cell_type": "code",
   "execution_count": null,
   "metadata": {},
   "outputs": [],
   "source": []
  }
 ],
 "metadata": {
  "kernelspec": {
   "display_name": "Python 3",
   "language": "python",
   "name": "python3"
  },
  "language_info": {
   "codemirror_mode": {
    "name": "ipython",
    "version": 3
   },
   "file_extension": ".py",
   "mimetype": "text/x-python",
   "name": "python",
   "nbconvert_exporter": "python",
   "pygments_lexer": "ipython3",
   "version": "3.7.7"
  }
 },
 "nbformat": 4,
 "nbformat_minor": 4
}
