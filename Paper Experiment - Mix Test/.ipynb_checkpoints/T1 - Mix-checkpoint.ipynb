{
 "cells": [
  {
   "cell_type": "code",
   "execution_count": 11,
   "metadata": {},
   "outputs": [],
   "source": [
    "from qiskit import IBMQ\n",
    "\n",
    "# Load Account and Choose Backend\n",
    "# IBMQ.load_account()\n",
    "# provider = IBMQ.get_provider('ibm-q')\n",
    "# name = 'ibmqx2'\n",
    "# backend = provider.get_backend(name) # ibmq_16_melbourne, ibmq_vigo, ibmq_london, ibmq_burlington, ibmq_essex, ibmqx2, ibmq_ourense"
   ]
  },
  {
   "cell_type": "code",
   "execution_count": 12,
   "metadata": {},
   "outputs": [],
   "source": [
    "import warnings\n",
    "import sys\n",
    "sys.path.insert(1, '../Scripts')\n",
    "from expfuncs import *\n",
    "warnings.filterwarnings('ignore')\n",
    "\n",
    "# interested_qubits = [2,1]\n",
    "# itr = 64\n",
    "# QDT_correlated = True\n",
    "# noise_file_address = 'Noise/'\n",
    "## all_methods_data(interested_qubits,backend, itr, QDT_correlated, file_address = noise_file_address)"
   ]
  },
  {
   "cell_type": "code",
   "execution_count": 3,
   "metadata": {},
   "outputs": [],
   "source": [
    "# Collect Grover Data\n",
    "# file_address = 'T1/'\n",
    "## Groverexp(backend,file_address =file_address)"
   ]
  },
  {
   "cell_type": "code",
   "execution_count": 4,
   "metadata": {},
   "outputs": [],
   "source": [
    "# # Create Filters\n",
    "# our_filter = MeasFilter(interested_qubits,file_address = noise_file_address)\n",
    "# our_filter.post_from_file()\n",
    "\n",
    "# post_dict = {}\n",
    "# for q in interested_qubits:\n",
    "#     post_dict['Qubit{}'.format(q)] = pd.read_csv(noise_file_address + 'StandPostQubit{}.csv'.format(q)).to_numpy()\n",
    "\n",
    "# SB_filter = MeasFilterSB(interested_qubits,post_dict)"
   ]
  },
  {
   "cell_type": "code",
   "execution_count": 5,
   "metadata": {},
   "outputs": [],
   "source": [
    "# Read Grover data\n",
    "# with open(file_address + 'Count_Grover.csv', mode='r') as sgm:\n",
    "#     reader = csv.reader(sgm)\n",
    "#     temp_counts = {}\n",
    "#     for row in reader:   \n",
    "#         temp_counts[row[0]] = int(row[1])\n",
    "# real_counts = {}\n",
    "# for key in temp_counts.keys():\n",
    "#     real_counts[key[0:2]] = temp_counts[key]"
   ]
  },
  {
   "cell_type": "code",
   "execution_count": 6,
   "metadata": {},
   "outputs": [],
   "source": [
    "# # Filtering\n",
    "# data_shots = 8192\n",
    "\n",
    "# # Read Grover data\n",
    "# for t in [1,2,3,4,5,6]:\n",
    "#     file_address = 'T{}/'.format(t)\n",
    "#     with open(file_address + 'Count_Grover.csv', mode='r') as sgm:\n",
    "#         reader = csv.reader(sgm)\n",
    "#         temp_counts = {}\n",
    "#         for row in reader:   \n",
    "#             temp_counts[row[0]] = int(row[1])\n",
    "#     real_counts = {}\n",
    "#     for key in temp_counts.keys():\n",
    "#         real_counts[key[0:2]] = temp_counts[key]\n",
    "#     print('T' + str(t))\n",
    "#     mean_counts = our_filter.filter_mean(real_counts)\n",
    "#     mode_counts = our_filter.filter_mode(real_counts)\n",
    "#     sbmean_counts = SB_filter.filter_mean(real_counts)\n",
    "#     sbmode_counts = SB_filter.filter_mode(real_counts)\n",
    "#     print('SB Mean',sbmean_counts['11']/data_shots)\n",
    "#     print('SB Mode',sbmode_counts['11']/data_shots)\n",
    "#     print('Our Mean',mean_counts['11']/data_shots)\n",
    "#     print('Our Mode',mode_counts['11']/data_shots)"
   ]
  },
  {
   "cell_type": "code",
   "execution_count": 7,
   "metadata": {},
   "outputs": [],
   "source": [
    "# from qiskit.visualization import plot_histogram\n",
    "# plot_histogram(real_counts)"
   ]
  },
  {
   "cell_type": "code",
   "execution_count": 8,
   "metadata": {},
   "outputs": [],
   "source": [
    "# plot_histogram(mean_counts)"
   ]
  },
  {
   "cell_type": "code",
   "execution_count": 9,
   "metadata": {},
   "outputs": [],
   "source": [
    "# plot_histogram(mode_counts)"
   ]
  },
  {
   "cell_type": "code",
   "execution_count": 13,
   "metadata": {},
   "outputs": [
    {
     "name": "stdout",
     "output_type": "stream",
     "text": [
      "[[1.   1.   0.  ]\n",
      " [1.   0.98 0.  ]]\n"
     ]
    },
    {
     "data": {
      "text/plain": [
       "array([0.5 , 0.51])"
      ]
     },
     "execution_count": 13,
     "metadata": {},
     "output_type": "execute_result"
    }
   ],
   "source": [
    "from gatesimu import QoI_gate\n",
    "\n",
    "n = 2\n",
    "lambdas = np.array([])\n",
    "for i in range(n):\n",
    "    lambdas = np.append(lambdas,[1, 1 - 0.02*i,0])\n",
    "lambdas = lambdas.reshape(n,3)\n",
    "print(lambdas)\n",
    "QoI_gate(lambdas, 0.5,200)"
   ]
  },
  {
   "cell_type": "code",
   "execution_count": 14,
   "metadata": {},
   "outputs": [],
   "source": [
    "from mpl_toolkits import mplot3d\n",
    "import matplotlib.pyplot as plt\n",
    "\n",
    "_widths = {\n",
    "    # a4paper columnwidth = 426.79135 pt = 5.93 in\n",
    "    # letterpaper columnwidth = 443.57848 pt = 6.16 in\n",
    "    'onecolumn': {\n",
    "        'a4paper' : 5.93,\n",
    "        'letterpaper' : 6.16\n",
    "    },\n",
    "    # a4paper columnwidth = 231.84843 pt = 3.22 in\n",
    "    # letterpaper columnwidth = 240.24199 pt = 3.34 in\n",
    "    'twocolumn': {\n",
    "        'a4paper' : 3.22,\n",
    "        'letterpaper' : 3.34\n",
    "    }\n",
    "}\n",
    "\n",
    "_wide_widths = {\n",
    "    # a4paper wide columnwidth = 426.79135 pt = 5.93 in\n",
    "    # letterpaper wide columnwidth = 443.57848 pt = 6.16 in\n",
    "    'onecolumn': {\n",
    "        'a4paper' : 5.93,\n",
    "        'letterpaper' : 6.16\n",
    "    },\n",
    "    # a4paper wide linewidth = 483.69687 pt = 6.72 in\n",
    "    # letterpaper wide linewidth = 500.48400 pt = 6.95 in\n",
    "    'twocolumn': {\n",
    "        'a4paper' : 6.72,\n",
    "        'letterpaper' : 6.95\n",
    "    }\n",
    "}\n",
    "\n",
    "_fontsizes = {\n",
    "    10 : {\n",
    "        'tiny' : 5,\n",
    "        'scriptsize' : 7,\n",
    "        'footnotesize' : 8, \n",
    "        'small' : 9, \n",
    "        'normalsize' : 10,\n",
    "        'large' : 12, \n",
    "        'Large' : 14, \n",
    "        'LARGE' : 17,\n",
    "        'huge' : 20,\n",
    "        'Huge' : 25\n",
    "    },\n",
    "    11 : {\n",
    "        'tiny' : 6,\n",
    "        'scriptsize' : 8,\n",
    "        'footnotesize' : 9, \n",
    "        'small' : 10, \n",
    "        'normalsize' : 11,\n",
    "        'large' : 12, \n",
    "        'Large' : 14, \n",
    "        'LARGE' : 17,\n",
    "        'huge' :  20,\n",
    "        'Huge' :  25\n",
    "    },\n",
    "    12 : {\n",
    "        'tiny' : 6,\n",
    "        'scriptsize' : 8,\n",
    "        'footnotesize' : 10, \n",
    "        'small' : 11, \n",
    "        'normalsize' : 12,\n",
    "        'large' : 14, \n",
    "        'Large' : 17, \n",
    "        'LARGE' : 20,\n",
    "        'huge' :  25,\n",
    "        'Huge' :  25\n",
    "    }\n",
    "}\n",
    "\n",
    "_width         = 1\n",
    "_wide_width    = 1\n",
    "_quantumviolet = '#53257F'\n",
    "_quantumgray   = '#555555'\n",
    "\n",
    "\n",
    "columns = 'twocolumn'\n",
    "paper = 'a4paper'\n",
    "fontsize = 10\n",
    "\n",
    "\n",
    "plt.rcdefaults()\n",
    "    \n",
    "# Seaborn white is a good base style\n",
    "plt.style.use(['seaborn-white', '../Scripts/Plot/quantum-plots.mplstyle'])\n",
    "\n",
    "\n",
    "_width = _widths[columns][paper]\n",
    "\n",
    " \n",
    "_wide_width = _wide_widths[columns][paper]\n",
    "\n",
    "# Use the default fontsize scaling of LaTeX\n",
    "\n",
    "fontsizes = _fontsizes[fontsize]\n",
    "\n",
    "plt.rcParams['axes.labelsize'] = fontsizes['small']\n",
    "plt.rcParams['axes.titlesize'] = fontsizes['large']\n",
    "plt.rcParams['xtick.labelsize'] = fontsizes['footnotesize']\n",
    "plt.rcParams['ytick.labelsize'] = fontsizes['footnotesize']\n",
    "plt.rcParams['font.size'] = fontsizes['small']\n",
    "\n",
    "aspect_ratio = 1/1.62\n",
    "width_ratio = 1.0\n",
    "wide = False\n",
    "\n",
    "width = (_wide_width if wide else _width) * width_ratio\n",
    "height = width * aspect_ratio\n",
    "\n",
    "plt.rcParams[\"figure.dpi\"] = 120\n",
    "plt.rcParams[\"figure.figsize\"] = (width,height)"
   ]
  },
  {
   "cell_type": "code",
   "execution_count": 27,
   "metadata": {},
   "outputs": [
    {
     "data": {
      "image/png": "[encoded data removed]",
      "text/plain": [
       "<Figure size 386.4x238.519 with 1 Axes>"
      ]
     },
     "metadata": {},
     "output_type": "display_data"
    },
    {
     "data": {
      "image/png": "[encoded data removed]",
      "text/plain": [
       "<Figure size 386.4x238.519 with 1 Axes>"
      ]
     },
     "metadata": {},
     "output_type": "display_data"
    },
    {
     "data": {
      "image/png": "[encoded data removed]",
      "text/plain": [
       "<Figure size 386.4x238.519 with 1 Axes>"
      ]
     },
     "metadata": {},
     "output_type": "display_data"
    }
   ],
   "source": [
    "\n",
    "\n",
    "p0s = np.array([])\n",
    "p0qoi = np.array([])\n",
    "p1s = np.array([])\n",
    "p1qoi = np.array([])\n",
    "epss = np.array([])\n",
    "epsqoi = np.array([])\n",
    "\n",
    "for p0 in np.arange(0.8,1,0.0001):\n",
    "        _,z = QoI_gate(np.array([[1,1,0.001],[p0,1,0.01]]), 1,200)\n",
    "        p0s = np.append(p0s,1-p0)\n",
    "        p0qoi = np.append(p0qoi,z)\n",
    "        \n",
    "for p1 in np.arange(0.8,1,0.0001):\n",
    "        _,z = QoI_gate(np.array([[1,1,0.001],[1,p1,0.01]]), 1,200)\n",
    "        p1s = np.append(p1s,1-p1)\n",
    "        p1qoi = np.append(p1qoi,z)\n",
    "for eps in np.arange(0,0.02,0.0001): # After the revision in 2021 Summer, the eps in code is actually 200% of the one in the paper, 0.5*eps_in_code = eps_in_paper\n",
    "        _,z = QoI_gate(np.array([[1,1,0.001],[1,1,eps]]), 1,200)\n",
    "        epss = np.append(epss, eps*0.5)\n",
    "        epsqoi = np.append(epsqoi,z)\n",
    "        \n",
    "\n",
    "plt.plot(p0s,p0qoi)\n",
    "plt.xlabel('$\\epsilon_{m0}$')\n",
    "plt.ylabel('QoI')\n",
    "plt.xticks(np.arange(0,0.2,0.04))\n",
    "plt.tight_layout()\n",
    "plt.savefig('sens-em0.pdf',bbox_inches='tight')\n",
    "plt.show()\n",
    "plt.plot(p1s,p1qoi)\n",
    "plt.xlabel('$\\epsilon_{m1}$')\n",
    "plt.ylabel('QoI')\n",
    "plt.xticks(np.arange(0,0.2,0.04))\n",
    "plt.tight_layout()\n",
    "plt.savefig('sens-em1.pdf',bbox_inches='tight')\n",
    "plt.show()\n",
    "plt.plot(epss,epsqoi)\n",
    "plt.xlabel('$\\epsilon_{g}$')\n",
    "plt.ylabel('QoI')\n",
    "plt.xticks(np.arange(0,0.01,0.002))\n",
    "plt.tight_layout()\n",
    "plt.savefig('sens-eg.pdf',bbox_inches='tight')\n",
    "plt.show()\n",
    "\n",
    "# fontsize = 20\n",
    "# plt.plot(p0s,p0qoi)\n",
    "# plt.xlabel('$\\epsilon_{m0}$', fontsize=fontsize)\n",
    "# plt.ylabel('QoI', fontsize=fontsize)\n",
    "# plt.xticks(np.arange(0,0.2,0.05), fontsize=16)\n",
    "# plt.yticks(fontsize=14)\n",
    "# plt.tight_layout()\n",
    "# plt.savefig('sens-em0.pdf',bbox_inches='tight')\n",
    "# plt.show()\n",
    "# plt.plot(p1s,p1qoi)\n",
    "# plt.xlabel('$\\epsilon_{m1}$', fontsize=fontsize)\n",
    "# plt.ylabel('QoI', fontsize=fontsize)\n",
    "# plt.xticks(np.arange(0,0.2,0.05), fontsize=16)\n",
    "# plt.yticks(fontsize=14)\n",
    "# plt.tight_layout()\n",
    "# plt.savefig('sens-em1.pdf',bbox_inches='tight')\n",
    "# plt.show()\n",
    "# plt.plot(epss,epsqoi)\n",
    "# plt.xlabel('$\\epsilon_{g}$', fontsize=fontsize)\n",
    "# plt.ylabel('QoI', fontsize=fontsize)\n",
    "# plt.xticks(np.arange(0,0.02,0.005), fontsize=16)\n",
    "# plt.yticks(fontsize=14)\n",
    "# plt.tight_layout()\n",
    "# plt.savefig('sens-eg.pdf',bbox_inches='tight')\n",
    "# plt.show()"
   ]
  },
  {
   "cell_type": "code",
   "execution_count": 16,
   "metadata": {},
   "outputs": [],
   "source": [
    "xs = np.array([])\n",
    "ys = np.array([])\n",
    "zs = np.array([])\n",
    "\n",
    "for x in np.arange(0,0.2,0.001):\n",
    "    for y in np.arange(0,0.02,0.0001):\n",
    "        _,z = QoI_gate(np.array([[1,1,0],[1 - x,1,y]]), 1,200)\n",
    "        xs = np.append(xs,x)\n",
    "        ys = np.append(ys,y)\n",
    "        zs = np.append(zs,z)"
   ]
  },
  {
   "cell_type": "code",
   "execution_count": 17,
   "metadata": {},
   "outputs": [
    {
     "data": {
      "image/png": "[encoded data removed]",
      "text/plain": [
       "<Figure size 386.4x238.519 with 1 Axes>"
      ]
     },
     "metadata": {},
     "output_type": "display_data"
    }
   ],
   "source": [
    "fig = plt.figure()\n",
    "ax = plt.axes(projection='3d')\n",
    "ax.scatter3D(xs, ys, zs, cmap='hsv')\n",
    "ax.set_xlabel('$\\epsilon_{m0}$')\n",
    "plt.xticks(np.arange(min(xs), max(xs), (max(xs)/4 - min(xs)/4)))\n",
    "plt.yticks(np.arange(min(ys), max(ys), (max(ys)/4 - min(ys)/4)))\n",
    "#ax.set_ylabel('$epsilon_{m1}$')\n",
    "ax.set_ylabel('$\\epsilon_{g}$')\n",
    "#ax.set_zlabel('AD')\n",
    "ax.view_init(elev=20., azim=140)\n",
    "plt.show()"
   ]
  },
  {
   "cell_type": "code",
   "execution_count": 18,
   "metadata": {},
   "outputs": [],
   "source": [
    "def gate_circ(nGates, gate_type, interested_qubit, itr):\n",
    "    circ = QuantumCircuit(5,5)\n",
    "    for _ in range(nGates):\n",
    "        if gate_type == 'X':\n",
    "            circ.x(interested_qubit)\n",
    "        elif gate_type == 'Y':\n",
    "            circ.y(interested_qubit)\n",
    "        elif gate_type == 'Z':\n",
    "            circ.z(interested_qubit)\n",
    "        else:\n",
    "            raise Exception('Choose gate_type from X, Y, Z')\n",
    "        circ.barrier(interested_qubit)\n",
    "    circ.measure([interested_qubit],[interested_qubit])\n",
    "    print('Circ depth is ', circ.depth())\n",
    "    circs = []\n",
    "    for i in range(itr):\n",
    "        circs.append(circ.copy('itr'+str(i)))\n",
    "    return circs\n",
    "\n",
    "def Gateexp(nGates, gate_type, interested_qubit, itr, backend, file_address = ''):\n",
    "    circs = gate_circ(nGates, gate_type, interested_qubit, itr)\n",
    "    # Run on real device\n",
    "    job_exp = execute(circs, backend = backend, shots = 8192, memory = True, optimization_level = 0)\n",
    "    job_monitor(job_exp)\n",
    "    \n",
    "    # Record bit string\n",
    "    exp_results = job_exp.result()\n",
    "    readout = np.array([])\n",
    "    for i in range(itr):\n",
    "        readout = np.append(readout,exp_results.get_memory(experiment = ('itr' + str(i))))\n",
    "        \n",
    "    with open(file_address + 'Readout_{}{}Q{}.csv'.format(nGates,gate_type,interested_qubit), mode='w') as sgr:\n",
    "        read_writer = csv.writer(sgr, delimiter=',', quotechar='\"', quoting=csv.QUOTE_MINIMAL)\n",
    "        read_writer.writerow(readout)"
   ]
  },
  {
   "cell_type": "code",
   "execution_count": 19,
   "metadata": {},
   "outputs": [],
   "source": [
    "# Gateexp(200, 'X', 1, 1, backend, file_address = '')"
   ]
  },
  {
   "cell_type": "code",
   "execution_count": null,
   "metadata": {},
   "outputs": [],
   "source": []
  }
 ],
 "metadata": {
  "kernelspec": {
   "display_name": "Python 3",
   "language": "python",
   "name": "python3"
  },
  "language_info": {
   "codemirror_mode": {
    "name": "ipython",
    "version": 3
   },
   "file_extension": ".py",
   "mimetype": "text/x-python",
   "name": "python",
   "nbconvert_exporter": "python",
   "pygments_lexer": "ipython3",
   "version": "3.7.10"
  }
 },
 "nbformat": 4,
 "nbformat_minor": 4
}
