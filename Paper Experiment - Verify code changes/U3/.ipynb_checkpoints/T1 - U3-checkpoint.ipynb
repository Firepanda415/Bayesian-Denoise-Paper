{
 "cells": [
  {
   "cell_type": "code",
   "execution_count": 1,
   "metadata": {},
   "outputs": [],
   "source": [
    "from qiskit import IBMQ\n",
    "\n",
    "# Load Account and Choose Backend\n",
    "IBMQ.load_account()\n",
    "provider = IBMQ.get_provider('ibm-q')\n",
    "name = 'ibmqx2'\n",
    "backend = provider.get_backend(name) # ibmq_16_melbourne, ibmq_vigo, ibmq_london, ibmq_burlington, ibmq_essex, ibmqx2, ibmq_ourense"
   ]
  },
  {
   "cell_type": "code",
   "execution_count": 2,
   "metadata": {},
   "outputs": [
    {
     "ename": "ModuleNotFoundError",
     "evalue": "No module named 'measfilter'",
     "output_type": "error",
     "traceback": [
      "\u001b[1;31m---------------------------------------------------------------------------\u001b[0m",
      "\u001b[1;31mModuleNotFoundError\u001b[0m                       Traceback (most recent call last)",
      "\u001b[1;32m<ipython-input-2-f7e64e950795>\u001b[0m in \u001b[0;36m<module>\u001b[1;34m\u001b[0m\n\u001b[0;32m      3\u001b[0m \u001b[1;32mimport\u001b[0m \u001b[0msys\u001b[0m\u001b[1;33m\u001b[0m\u001b[1;33m\u001b[0m\u001b[0m\n\u001b[0;32m      4\u001b[0m \u001b[0msys\u001b[0m\u001b[1;33m.\u001b[0m\u001b[0mpath\u001b[0m\u001b[1;33m.\u001b[0m\u001b[0minsert\u001b[0m\u001b[1;33m(\u001b[0m\u001b[1;36m1\u001b[0m\u001b[1;33m,\u001b[0m \u001b[1;34m'../Scripts'\u001b[0m\u001b[1;33m)\u001b[0m\u001b[1;33m\u001b[0m\u001b[1;33m\u001b[0m\u001b[0m\n\u001b[1;32m----> 5\u001b[1;33m \u001b[1;32mfrom\u001b[0m \u001b[0mmeasfilter\u001b[0m \u001b[1;32mimport\u001b[0m \u001b[0mparam_record\u001b[0m\u001b[1;33m,\u001b[0m \u001b[0mgetData0\u001b[0m\u001b[1;33m,\u001b[0m\u001b[0mread_params\u001b[0m\u001b[1;33m\u001b[0m\u001b[1;33m\u001b[0m\u001b[0m\n\u001b[0m\u001b[0;32m      6\u001b[0m \u001b[1;32mfrom\u001b[0m \u001b[0mgatesimu\u001b[0m \u001b[1;32mimport\u001b[0m \u001b[0mGateexp\u001b[0m\u001b[1;33m,\u001b[0m \u001b[0moutput_gate\u001b[0m\u001b[1;33m,\u001b[0m \u001b[0mread_data\u001b[0m\u001b[1;33m,\u001b[0m \u001b[0mgate_circ\u001b[0m\u001b[1;33m\u001b[0m\u001b[1;33m\u001b[0m\u001b[0m\n\u001b[0;32m      7\u001b[0m \u001b[1;33m\u001b[0m\u001b[0m\n",
      "\u001b[1;31mModuleNotFoundError\u001b[0m: No module named 'measfilter'"
     ]
    }
   ],
   "source": [
    "import warnings\n",
    "warnings.filterwarnings('ignore')\n",
    "import sys\n",
    "sys.path.insert(1, '../Scripts')\n",
    "from measfilter import param_record, getData0,read_params\n",
    "from gatesimu import Gateexp, output_gate, read_data, gate_circ\n",
    "\n",
    "# Parameters\n",
    "interested_qubits = [1,2]\n",
    "gate_num = 200\n",
    "gate_type = 'X'\n",
    "\n",
    "itr = 16\n",
    "shots = 8192\n",
    "file_address = 'T1/'\n",
    "noise_file_address = 'Noise/'\n",
    "\n",
    "# Collect U3-Gate Data\n",
    "param_record(backend, itr = itr, shots = shots, file_address = noise_file_address)\n",
    "for q in interested_qubits:\n",
    "    Gateexp(gate_num, gate_type, q, itr, backend, file_address =file_address)"
   ]
  },
  {
   "cell_type": "code",
   "execution_count": null,
   "metadata": {},
   "outputs": [],
   "source": [
    "import csv\n",
    "prop_dict = backend.properties().to_dict()\n",
    "with open(noise_file_address + 'given_params.csv', mode='w', newline='') as sgm:\n",
    "    param_writer = csv.writer(sgm, delimiter=',', quotechar='\"', quoting=csv.QUOTE_MINIMAL)\n",
    "    for q in interested_qubits:\n",
    "        p0m0 = 1 - prop_dict['qubits'][q][5]['value']\n",
    "        if p0m0 == 1 or p0m0 < 0.7:\n",
    "            p0m0 = 0.9\n",
    "        p1m1 = 1 - prop_dict['qubits'][q][4]['value']\n",
    "        if p1m1 == 1 or p1m1 < 0.7:\n",
    "            p1m1 = 0.9\n",
    "        param_writer.writerow([p0m0,p1m1,prop_dict['gates'][4*q+3]['parameters'][0]['value']])"
   ]
  },
  {
   "cell_type": "code",
   "execution_count": null,
   "metadata": {},
   "outputs": [],
   "source": [
    "import seaborn as sns\n",
    "import pandas as pd\n",
    "\n",
    "M = 40000\n",
    "gate_sd = 0.01\n",
    "meas_sd = 0.1\n",
    "info = {}\n",
    "\n",
    "params = read_params(file_address = noise_file_address)\n",
    "for q in interested_qubits:\n",
    "    print('Qubit ',q)\n",
    "    data = read_data(q, gate_type, gate_num, file_address = file_address)\n",
    "    d = getData0(data, int(itr*shots/1024), q)\n",
    "    _,post_lambdas = output_gate(d, q, M, params, gate_sd, meas_sd, gate_type, gate_num, file_address = file_address)\n",
    "    info['Qubit' + str(q)] = post_lambdas"
   ]
  },
  {
   "cell_type": "code",
   "execution_count": null,
   "metadata": {},
   "outputs": [],
   "source": []
  },
  {
   "cell_type": "code",
   "execution_count": null,
   "metadata": {},
   "outputs": [],
   "source": [
    "from gatesimu import plotComparsion\n",
    "for q in interested_qubits:\n",
    "    d = getData0(read_data(q, gate_type, gate_num, file_address = file_address), int(itr*shots/1024), q)\n",
    "    plotComparsion(d, info['Qubit'+str(q)], q, file_address = file_address)"
   ]
  },
  {
   "cell_type": "code",
   "execution_count": null,
   "metadata": {},
   "outputs": [],
   "source": [
    "import seaborn as sns\n",
    "qubit_num = 1\n",
    "our_q1 = pd.DataFrame(info['Qubit' + str(qubit_num)],columns=['P0','P1','eps'])\n",
    "sns_plot = sns.jointplot(x=\"P0\", y=\"P1\", data=our_q1, kind=\"kde\", xlim=(0.6,1.02), ylim=(0.6,1.02)).set_axis_labels('$1 - \\epsilon_{m0,1}$', '$1 - \\epsilon_{m1,1}$')\n",
    "sns_plot.fig.savefig(noise_file_address + 'p0p1-Qubit{}.jpg'.format(qubit_num)) "
   ]
  },
  {
   "cell_type": "code",
   "execution_count": null,
   "metadata": {},
   "outputs": [],
   "source": [
    "import numpy as np\n",
    "from measfilter import closest_average, closest_mode\n",
    "q = 1\n",
    "postSB = pd.read_csv(file_address + 'StandPostQubit{}.csv'.format(q)).to_numpy()\n",
    "print(np.mean(postSB,axis = 0))\n",
    "print(closest_average(postSB))\n",
    "print(closest_mode(postSB))"
   ]
  },
  {
   "cell_type": "code",
   "execution_count": null,
   "metadata": {},
   "outputs": [],
   "source": [
    "q = 2\n",
    "postSB = pd.read_csv(file_address + 'StandPostQubit{}.csv'.format(q)).to_numpy()\n",
    "print(np.mean(postSB,axis = 0))\n",
    "print(closest_average(postSB))\n",
    "print(closest_mode(postSB))"
   ]
  },
  {
   "cell_type": "code",
   "execution_count": null,
   "metadata": {},
   "outputs": [],
   "source": []
  }
 ],
 "metadata": {
  "kernelspec": {
   "display_name": "Python 3",
   "language": "python",
   "name": "python3"
  },
  "language_info": {
   "codemirror_mode": {
    "name": "ipython",
    "version": 3
   },
   "file_extension": ".py",
   "mimetype": "text/x-python",
   "name": "python",
   "nbconvert_exporter": "python",
   "pygments_lexer": "ipython3",
   "version": "3.7.7"
  }
 },
 "nbformat": 4,
 "nbformat_minor": 4
}
